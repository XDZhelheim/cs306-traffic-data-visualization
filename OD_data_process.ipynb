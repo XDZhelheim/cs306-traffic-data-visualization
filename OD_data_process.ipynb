{
 "cells": [
  {
   "cell_type": "code",
   "execution_count": 1,
   "metadata": {
    "collapsed": true
   },
   "outputs": [],
   "source": [
    "import pandas as pd\n"
   ]
  },
  {
   "cell_type": "code",
   "execution_count": 2,
   "outputs": [
    {
     "data": {
      "text/plain": "   taxi_id      time         lon        lat  is_passenger  speed\n0    22224  10:13:42  113.887032  22.547518             0      0\n1    22224  19:31:36  113.909554  22.582199             1     71\n2    22224  17:06:32  113.916748  22.623550             1    100\n3    22224  15:07:19  113.922432  22.535383             1     21\n4    22224  14:55:18  113.922668  22.520033             1     10",
      "text/html": "<div>\n<style scoped>\n    .dataframe tbody tr th:only-of-type {\n        vertical-align: middle;\n    }\n\n    .dataframe tbody tr th {\n        vertical-align: top;\n    }\n\n    .dataframe thead th {\n        text-align: right;\n    }\n</style>\n<table border=\"1\" class=\"dataframe\">\n  <thead>\n    <tr style=\"text-align: right;\">\n      <th></th>\n      <th>taxi_id</th>\n      <th>time</th>\n      <th>lon</th>\n      <th>lat</th>\n      <th>is_passenger</th>\n      <th>speed</th>\n    </tr>\n  </thead>\n  <tbody>\n    <tr>\n      <th>0</th>\n      <td>22224</td>\n      <td>10:13:42</td>\n      <td>113.887032</td>\n      <td>22.547518</td>\n      <td>0</td>\n      <td>0</td>\n    </tr>\n    <tr>\n      <th>1</th>\n      <td>22224</td>\n      <td>19:31:36</td>\n      <td>113.909554</td>\n      <td>22.582199</td>\n      <td>1</td>\n      <td>71</td>\n    </tr>\n    <tr>\n      <th>2</th>\n      <td>22224</td>\n      <td>17:06:32</td>\n      <td>113.916748</td>\n      <td>22.623550</td>\n      <td>1</td>\n      <td>100</td>\n    </tr>\n    <tr>\n      <th>3</th>\n      <td>22224</td>\n      <td>15:07:19</td>\n      <td>113.922432</td>\n      <td>22.535383</td>\n      <td>1</td>\n      <td>21</td>\n    </tr>\n    <tr>\n      <th>4</th>\n      <td>22224</td>\n      <td>14:55:18</td>\n      <td>113.922668</td>\n      <td>22.520033</td>\n      <td>1</td>\n      <td>10</td>\n    </tr>\n  </tbody>\n</table>\n</div>"
     },
     "execution_count": 2,
     "metadata": {},
     "output_type": "execute_result"
    }
   ],
   "source": [
    "CSV_FILE_PATH = './sample_taxi/sample_taxi.csv'\n",
    "df = pd.read_csv(CSV_FILE_PATH)\n",
    "df.head()"
   ],
   "metadata": {
    "collapsed": false,
    "pycharm": {
     "name": "#%%\n"
    }
   }
  },
  {
   "cell_type": "code",
   "execution_count": null,
   "outputs": [],
   "source": [
    "taxi_counts = dict(df.taxi_id.value_counts())"
   ],
   "metadata": {
    "collapsed": false,
    "pycharm": {
     "name": "#%%\n"
    }
   }
  },
  {
   "cell_type": "code",
   "execution_count": null,
   "outputs": [],
   "source": [
    "id_list = list(taxi_counts.keys())"
   ],
   "metadata": {
    "collapsed": false,
    "pycharm": {
     "name": "#%%\n"
    }
   }
  },
  {
   "cell_type": "code",
   "execution_count": 8,
   "outputs": [],
   "source": [
    "OD_list = []\n",
    "OD_path = []\n",
    "for id in id_list:\n",
    "    id_df = df[df.taxi_id == id]\n",
    "    id_df = id_df.sort_values(by='time')\n",
    "    passenger_check = False\n",
    "\n",
    "    if (id_df.iloc[0]['is_passenger'] == 0):\n",
    "        passenger_check = False\n",
    "    else:\n",
    "        passenger_check = True\n",
    "    for index, row in id_df.iterrows():\n",
    "        if (passenger_check and row['is_passenger'] == 0):\n",
    "            passenger_check = False\n",
    "            if (len(OD_path) == 1):\n",
    "                OD_path.append([row['time'], row['lon'], row['lat']])\n",
    "                OD_list.append(OD_path.copy())\n",
    "                OD_path = []\n",
    "        elif ((not passenger_check) and row['is_passenger'] == 1):\n",
    "            passenger_check = True\n",
    "            OD_path = []\n",
    "            OD_path.append([row['time'], row['lon'], row['lat']])"
   ],
   "metadata": {
    "collapsed": false,
    "pycharm": {
     "name": "#%%\n"
    }
   }
  },
  {
   "cell_type": "code",
   "execution_count": 9,
   "outputs": [],
   "source": [
    "r_df1 = pd.DataFrame(\n",
    "    columns=['from_time','lng1','lat1','to_time','lng2','lat2'])\n",
    "for i in OD_list:\n",
    "    slide_series = pd.Series(\n",
    "        {'from_time': i[0][0],\n",
    "         'lng1': i[0][1],\n",
    "         'lat1': i[0][2],\n",
    "         'to_time': i[1][0],\n",
    "         'lng2': i[1][1],\n",
    "         'lat2': i[1][2]})\n",
    "    r_df1 = r_df1.append(slide_series, ignore_index=True)\n",
    "r_df1.to_csv(\"./data/all_data.csv\", index=False, sep=',')"
   ],
   "metadata": {
    "collapsed": false,
    "pycharm": {
     "name": "#%%\n"
    }
   }
  }
 ],
 "metadata": {
  "kernelspec": {
   "display_name": "Python 3",
   "language": "python",
   "name": "python3"
  },
  "language_info": {
   "codemirror_mode": {
    "name": "ipython",
    "version": 2
   },
   "file_extension": ".py",
   "mimetype": "text/x-python",
   "name": "python",
   "nbconvert_exporter": "python",
   "pygments_lexer": "ipython2",
   "version": "2.7.6"
  }
 },
 "nbformat": 4,
 "nbformat_minor": 0
}