{
 "cells": [
  {
   "cell_type": "markdown",
   "metadata": {},
   "source": [
    "start with trip duration!"
   ]
  },
  {
   "cell_type": "code",
   "execution_count": 2,
   "metadata": {},
   "outputs": [],
   "source": [
    "import pandas as pd\n",
    "data = pd.read_csv('ch_taxi/taxi.csv')\n",
    "data.dropna(inplace=True)"
   ]
  },
  {
   "cell_type": "code",
   "execution_count": 3,
   "metadata": {
    "scrolled": true
   },
   "outputs": [
    {
     "data": {
      "text/html": [
       "<div>\n",
       "<style scoped>\n",
       "    .dataframe tbody tr th:only-of-type {\n",
       "        vertical-align: middle;\n",
       "    }\n",
       "\n",
       "    .dataframe tbody tr th {\n",
       "        vertical-align: top;\n",
       "    }\n",
       "\n",
       "    .dataframe thead th {\n",
       "        text-align: right;\n",
       "    }\n",
       "</style>\n",
       "<table border=\"1\" class=\"dataframe\">\n",
       "  <thead>\n",
       "    <tr style=\"text-align: right;\">\n",
       "      <th></th>\n",
       "      <th>taxi_id</th>\n",
       "      <th>time</th>\n",
       "      <th>lon</th>\n",
       "      <th>lat</th>\n",
       "      <th>is_passenger</th>\n",
       "      <th>speed</th>\n",
       "    </tr>\n",
       "  </thead>\n",
       "  <tbody>\n",
       "    <tr>\n",
       "      <th>0</th>\n",
       "      <td>22224</td>\n",
       "      <td>00:00:12</td>\n",
       "      <td>114.039169</td>\n",
       "      <td>22.565283</td>\n",
       "      <td>False</td>\n",
       "      <td>45</td>\n",
       "    </tr>\n",
       "    <tr>\n",
       "      <th>1</th>\n",
       "      <td>22224</td>\n",
       "      <td>00:00:27</td>\n",
       "      <td>114.040001</td>\n",
       "      <td>22.563417</td>\n",
       "      <td>False</td>\n",
       "      <td>69</td>\n",
       "    </tr>\n",
       "    <tr>\n",
       "      <th>2</th>\n",
       "      <td>22224</td>\n",
       "      <td>00:00:42</td>\n",
       "      <td>114.041298</td>\n",
       "      <td>22.561033</td>\n",
       "      <td>False</td>\n",
       "      <td>70</td>\n",
       "    </tr>\n",
       "    <tr>\n",
       "      <th>3</th>\n",
       "      <td>22224</td>\n",
       "      <td>00:00:57</td>\n",
       "      <td>114.042366</td>\n",
       "      <td>22.559084</td>\n",
       "      <td>False</td>\n",
       "      <td>69</td>\n",
       "    </tr>\n",
       "    <tr>\n",
       "      <th>4</th>\n",
       "      <td>22224</td>\n",
       "      <td>00:01:23</td>\n",
       "      <td>114.043114</td>\n",
       "      <td>22.556850</td>\n",
       "      <td>False</td>\n",
       "      <td>23</td>\n",
       "    </tr>\n",
       "    <tr>\n",
       "      <th>5</th>\n",
       "      <td>22224</td>\n",
       "      <td>00:01:27</td>\n",
       "      <td>114.042686</td>\n",
       "      <td>22.556784</td>\n",
       "      <td>False</td>\n",
       "      <td>43</td>\n",
       "    </tr>\n",
       "    <tr>\n",
       "      <th>6</th>\n",
       "      <td>22224</td>\n",
       "      <td>00:01:42</td>\n",
       "      <td>114.040535</td>\n",
       "      <td>22.556499</td>\n",
       "      <td>False</td>\n",
       "      <td>39</td>\n",
       "    </tr>\n",
       "    <tr>\n",
       "      <th>7</th>\n",
       "      <td>22224</td>\n",
       "      <td>00:01:57</td>\n",
       "      <td>114.038986</td>\n",
       "      <td>22.556316</td>\n",
       "      <td>False</td>\n",
       "      <td>45</td>\n",
       "    </tr>\n",
       "    <tr>\n",
       "      <th>8</th>\n",
       "      <td>22224</td>\n",
       "      <td>00:02:12</td>\n",
       "      <td>114.036903</td>\n",
       "      <td>22.556232</td>\n",
       "      <td>False</td>\n",
       "      <td>40</td>\n",
       "    </tr>\n",
       "    <tr>\n",
       "      <th>9</th>\n",
       "      <td>22224</td>\n",
       "      <td>00:02:27</td>\n",
       "      <td>114.035652</td>\n",
       "      <td>22.555782</td>\n",
       "      <td>False</td>\n",
       "      <td>48</td>\n",
       "    </tr>\n",
       "    <tr>\n",
       "      <th>10</th>\n",
       "      <td>22224</td>\n",
       "      <td>00:02:42</td>\n",
       "      <td>114.035080</td>\n",
       "      <td>22.555201</td>\n",
       "      <td>False</td>\n",
       "      <td>1</td>\n",
       "    </tr>\n",
       "    <tr>\n",
       "      <th>11</th>\n",
       "      <td>22224</td>\n",
       "      <td>00:02:56</td>\n",
       "      <td>114.035149</td>\n",
       "      <td>22.555149</td>\n",
       "      <td>False</td>\n",
       "      <td>0</td>\n",
       "    </tr>\n",
       "    <tr>\n",
       "      <th>12</th>\n",
       "      <td>22224</td>\n",
       "      <td>00:03:12</td>\n",
       "      <td>114.035164</td>\n",
       "      <td>22.555000</td>\n",
       "      <td>False</td>\n",
       "      <td>2</td>\n",
       "    </tr>\n",
       "    <tr>\n",
       "      <th>13</th>\n",
       "      <td>22224</td>\n",
       "      <td>00:03:28</td>\n",
       "      <td>114.034332</td>\n",
       "      <td>22.554117</td>\n",
       "      <td>True</td>\n",
       "      <td>53</td>\n",
       "    </tr>\n",
       "    <tr>\n",
       "      <th>14</th>\n",
       "      <td>22224</td>\n",
       "      <td>00:03:43</td>\n",
       "      <td>114.033501</td>\n",
       "      <td>22.552917</td>\n",
       "      <td>True</td>\n",
       "      <td>41</td>\n",
       "    </tr>\n",
       "    <tr>\n",
       "      <th>15</th>\n",
       "      <td>22224</td>\n",
       "      <td>00:06:04</td>\n",
       "      <td>114.031998</td>\n",
       "      <td>22.548750</td>\n",
       "      <td>False</td>\n",
       "      <td>3</td>\n",
       "    </tr>\n",
       "    <tr>\n",
       "      <th>16</th>\n",
       "      <td>22224</td>\n",
       "      <td>00:07:30</td>\n",
       "      <td>114.032204</td>\n",
       "      <td>22.547667</td>\n",
       "      <td>False</td>\n",
       "      <td>9</td>\n",
       "    </tr>\n",
       "    <tr>\n",
       "      <th>17</th>\n",
       "      <td>22224</td>\n",
       "      <td>00:07:32</td>\n",
       "      <td>114.032219</td>\n",
       "      <td>22.547617</td>\n",
       "      <td>False</td>\n",
       "      <td>9</td>\n",
       "    </tr>\n",
       "    <tr>\n",
       "      <th>18</th>\n",
       "      <td>22224</td>\n",
       "      <td>00:07:33</td>\n",
       "      <td>114.032234</td>\n",
       "      <td>22.547583</td>\n",
       "      <td>False</td>\n",
       "      <td>6</td>\n",
       "    </tr>\n",
       "    <tr>\n",
       "      <th>19</th>\n",
       "      <td>22224</td>\n",
       "      <td>00:07:51</td>\n",
       "      <td>114.034065</td>\n",
       "      <td>22.547867</td>\n",
       "      <td>False</td>\n",
       "      <td>39</td>\n",
       "    </tr>\n",
       "  </tbody>\n",
       "</table>\n",
       "</div>"
      ],
      "text/plain": [
       "    taxi_id      time         lon        lat  is_passenger  speed\n",
       "0     22224  00:00:12  114.039169  22.565283         False     45\n",
       "1     22224  00:00:27  114.040001  22.563417         False     69\n",
       "2     22224  00:00:42  114.041298  22.561033         False     70\n",
       "3     22224  00:00:57  114.042366  22.559084         False     69\n",
       "4     22224  00:01:23  114.043114  22.556850         False     23\n",
       "5     22224  00:01:27  114.042686  22.556784         False     43\n",
       "6     22224  00:01:42  114.040535  22.556499         False     39\n",
       "7     22224  00:01:57  114.038986  22.556316         False     45\n",
       "8     22224  00:02:12  114.036903  22.556232         False     40\n",
       "9     22224  00:02:27  114.035652  22.555782         False     48\n",
       "10    22224  00:02:42  114.035080  22.555201         False      1\n",
       "11    22224  00:02:56  114.035149  22.555149         False      0\n",
       "12    22224  00:03:12  114.035164  22.555000         False      2\n",
       "13    22224  00:03:28  114.034332  22.554117          True     53\n",
       "14    22224  00:03:43  114.033501  22.552917          True     41\n",
       "15    22224  00:06:04  114.031998  22.548750         False      3\n",
       "16    22224  00:07:30  114.032204  22.547667         False      9\n",
       "17    22224  00:07:32  114.032219  22.547617         False      9\n",
       "18    22224  00:07:33  114.032234  22.547583         False      6\n",
       "19    22224  00:07:51  114.034065  22.547867         False     39"
      ]
     },
     "execution_count": 3,
     "metadata": {},
     "output_type": "execute_result"
    }
   ],
   "source": [
    "data.head(20)"
   ]
  },
  {
   "cell_type": "code",
   "execution_count": 4,
   "metadata": {},
   "outputs": [
    {
     "data": {
      "text/plain": [
       "0          00:00:12\n",
       "1          00:00:27\n",
       "2          00:00:42\n",
       "3          00:00:57\n",
       "4          00:01:23\n",
       "             ...   \n",
       "9843416    23:50:28\n",
       "9843417    23:51:23\n",
       "9843418    23:52:18\n",
       "9843419    23:52:38\n",
       "9843420    23:53:33\n",
       "Name: time, Length: 9843421, dtype: object"
      ]
     },
     "execution_count": 4,
     "metadata": {},
     "output_type": "execute_result"
    }
   ],
   "source": [
    "data['time']"
   ]
  },
  {
   "cell_type": "code",
   "execution_count": 5,
   "metadata": {},
   "outputs": [],
   "source": [
    "data['time_delta'] = data['time'].astype('string')"
   ]
  },
  {
   "cell_type": "code",
   "execution_count": 6,
   "metadata": {},
   "outputs": [
    {
     "data": {
      "text/plain": [
       "0          00:00:12\n",
       "1          00:00:27\n",
       "2          00:00:42\n",
       "3          00:00:57\n",
       "4          00:01:23\n",
       "             ...   \n",
       "9843416    23:50:28\n",
       "9843417    23:51:23\n",
       "9843418    23:52:18\n",
       "9843419    23:52:38\n",
       "9843420    23:53:33\n",
       "Name: time_delta, Length: 9843421, dtype: string"
      ]
     },
     "execution_count": 6,
     "metadata": {},
     "output_type": "execute_result"
    }
   ],
   "source": [
    "data['time_delta']"
   ]
  },
  {
   "cell_type": "code",
   "execution_count": null,
   "metadata": {},
   "outputs": [],
   "source": [
    "data.to_csv(r'taxi_sec.csv', index = False)"
   ]
  },
  {
   "cell_type": "code",
   "execution_count": 10,
   "metadata": {},
   "outputs": [],
   "source": [
    "import pandas as pd\n",
    "data = pd.read_csv('taxi_OD_dur.csv')\n",
    "data.dropna(inplace=True)"
   ]
  },
  {
   "cell_type": "code",
   "execution_count": 11,
   "metadata": {},
   "outputs": [
    {
     "data": {
      "text/html": [
       "<div>\n",
       "<style scoped>\n",
       "    .dataframe tbody tr th:only-of-type {\n",
       "        vertical-align: middle;\n",
       "    }\n",
       "\n",
       "    .dataframe tbody tr th {\n",
       "        vertical-align: top;\n",
       "    }\n",
       "\n",
       "    .dataframe thead th {\n",
       "        text-align: right;\n",
       "    }\n",
       "</style>\n",
       "<table border=\"1\" class=\"dataframe\">\n",
       "  <thead>\n",
       "    <tr style=\"text-align: right;\">\n",
       "      <th></th>\n",
       "      <th>Dist</th>\n",
       "    </tr>\n",
       "  </thead>\n",
       "  <tbody>\n",
       "    <tr>\n",
       "      <th>1</th>\n",
       "      <td>383</td>\n",
       "    </tr>\n",
       "    <tr>\n",
       "      <th>2</th>\n",
       "      <td>875</td>\n",
       "    </tr>\n",
       "    <tr>\n",
       "      <th>3</th>\n",
       "      <td>292</td>\n",
       "    </tr>\n",
       "    <tr>\n",
       "      <th>4</th>\n",
       "      <td>1011</td>\n",
       "    </tr>\n",
       "    <tr>\n",
       "      <th>5</th>\n",
       "      <td>1947</td>\n",
       "    </tr>\n",
       "    <tr>\n",
       "      <th>6</th>\n",
       "      <td>826</td>\n",
       "    </tr>\n",
       "    <tr>\n",
       "      <th>7</th>\n",
       "      <td>1188</td>\n",
       "    </tr>\n",
       "    <tr>\n",
       "      <th>8</th>\n",
       "      <td>766</td>\n",
       "    </tr>\n",
       "    <tr>\n",
       "      <th>9</th>\n",
       "      <td>282</td>\n",
       "    </tr>\n",
       "    <tr>\n",
       "      <th>10</th>\n",
       "      <td>473</td>\n",
       "    </tr>\n",
       "  </tbody>\n",
       "</table>\n",
       "</div>"
      ],
      "text/plain": [
       "    Dist\n",
       "1    383\n",
       "2    875\n",
       "3    292\n",
       "4   1011\n",
       "5   1947\n",
       "6    826\n",
       "7   1188\n",
       "8    766\n",
       "9    282\n",
       "10   473"
      ]
     },
     "execution_count": 11,
     "metadata": {},
     "output_type": "execute_result"
    }
   ],
   "source": [
    "import numpy as np\n",
    "import matplotlib.mlab as mlab\n",
    "import matplotlib.pyplot as plt\n",
    "import pandas\n",
    "\n",
    "data.drop(data[data.Dist <= 100].index, inplace=True)\n",
    "data.head(10)\n",
    "\n"
   ]
  },
  {
   "cell_type": "code",
   "execution_count": 12,
   "metadata": {},
   "outputs": [
    {
     "data": {
      "text/plain": [
       "(827.5921938088829, 667.0995650249116)"
      ]
     },
     "execution_count": 12,
     "metadata": {},
     "output_type": "execute_result"
    }
   ],
   "source": [
    "data.drop(data[data.Dist > 5000].index, inplace=True)\n",
    "x = data.iloc[:,0]\n",
    "mu =np.mean(x) #计算均值\n",
    "sigma =np.std(x)\n",
    "mu,sigma\n",
    "\n"
   ]
  },
  {
   "cell_type": "code",
   "execution_count": 14,
   "metadata": {},
   "outputs": [
    {
     "data": {
      "image/png": "[encoded data removed]",
      "text/plain": [
       "<Figure size 432x288 with 1 Axes>"
      ]
     },
     "metadata": {
      "needs_background": "light"
     },
     "output_type": "display_data"
    }
   ],
   "source": [
    "import seaborn as sns \n",
    "\n",
    "sns.set_palette(\"hls\") #设置所有图的颜色，使用hls色彩空间\n",
    "sns.distplot(x,color=\"b\",bins=30,kde=True)\n",
    "plt.xlabel('seconds')\n",
    "plt.show()"
   ]
  },
  {
   "cell_type": "code",
   "execution_count": 19,
   "metadata": {},
   "outputs": [
    {
     "data": {
      "text/html": [
       "<div>\n",
       "<style scoped>\n",
       "    .dataframe tbody tr th:only-of-type {\n",
       "        vertical-align: middle;\n",
       "    }\n",
       "\n",
       "    .dataframe tbody tr th {\n",
       "        vertical-align: top;\n",
       "    }\n",
       "\n",
       "    .dataframe thead th {\n",
       "        text-align: right;\n",
       "    }\n",
       "</style>\n",
       "<table border=\"1\" class=\"dataframe\">\n",
       "  <thead>\n",
       "    <tr style=\"text-align: right;\">\n",
       "      <th></th>\n",
       "      <th>Dist</th>\n",
       "    </tr>\n",
       "  </thead>\n",
       "  <tbody>\n",
       "  </tbody>\n",
       "</table>\n",
       "</div>"
      ],
      "text/plain": [
       "Empty DataFrame\n",
       "Columns: [Dist]\n",
       "Index: []"
      ]
     },
     "execution_count": 19,
     "metadata": {},
     "output_type": "execute_result"
    }
   ],
   "source": [
    "data[data.Dist > 10000]"
   ]
  },
  {
   "cell_type": "code",
   "execution_count": 42,
   "metadata": {},
   "outputs": [
    {
     "data": {
      "image/png": "[encoded data removed]",
      "text/plain": [
       "<Figure size 432x288 with 1 Axes>"
      ]
     },
     "metadata": {
      "needs_background": "light"
     },
     "output_type": "display_data"
    }
   ],
   "source": [
    "yhist, xhist, patches = plt.hist(x, num_bins, density = True, facecolor='blue', alpha=0.5)\n",
    "\n",
    "# Add fitting curve\n",
    "y = norm.pdf(xhist, mu, sigma)\n",
    "# y = mlab.normpdf(xhist, mu, sigma)\n",
    "plt.plot(xhist, y, \"r--\")\n",
    "plt.xlabel(\"x\")\n",
    "plt.ylabel(\"Probability\")\n",
    "plt.title(\"Histogram of Normality: $\\mu=827.592$, $\\sigma=667.099$\")\n",
    "plt.show()"
   ]
  },
  {
   "cell_type": "code",
   "execution_count": 1,
   "metadata": {},
   "outputs": [],
   "source": [
    "import warnings\n",
    "import matplotlib.pyplot as plt\n",
    "from matplotlib.pyplot import *\n",
    "from matplotlib import animation\n",
    "import matplotlib.font_manager as fm\n",
    "import seaborn as sns\n",
    "import re\n",
    "import io\n",
    "import os\n",
    "import base64\n",
    "from IPython.display import HTML\n",
    "from sklearn.cluster import KMeans\n",
    "from sklearn.neighbors import KNeighborsClassifier\n",
    "import pandas as pd\n",
    "import json\n",
    "import requests\n",
    "warnings.filterwarnings(\"ignore\")\n"
   ]
  },
  {
   "cell_type": "code",
   "execution_count": 97,
   "metadata": {},
   "outputs": [],
   "source": [
    "def geo2addr(location):\n",
    "    parameters = {'output': 'json', 'key': '3b90f044d1343d0dd4799129272c93a7','location': location, 'extensions':'all'}\n",
    "    base = 'https://restapi.amap.com/v3/place/around?key=3b90f044d1343d0dd4799129272c93a7&output=json&extensions=all'+\\\n",
    "           '&sortrule=weight&'+\\\n",
    "            '&location='+location\n",
    "    response = requests.get(base)\n",
    "    response = response.json()\n",
    "    formatted_address = response['pois'][0]['type']\n",
    "    \n",
    "    formatted_address2 = response['pois'][0]['cityname']+response['pois'][0]['adname']+response['pois'][0]['name']\n",
    "    return formatted_address,formatted_address2"
   ]
  },
  {
   "cell_type": "code",
   "execution_count": 98,
   "metadata": {},
   "outputs": [
    {
     "name": "stdout",
     "output_type": "stream",
     "text": [
      "('商务住宅;产业园区;产业园区', '深圳市宝安区华丰第一科技园')\n"
     ]
    }
   ],
   "source": [
    "print(geo2addr('113.842796,22.613617'))"
   ]
  },
  {
   "cell_type": "code",
   "execution_count": 61,
   "metadata": {},
   "outputs": [],
   "source": [
    "data2 = json.dumps({'a': 'Runoob', 'b': 7}, sort_keys=True, indent=4, separators=(',', ': '))"
   ]
  },
  {
   "cell_type": "code",
   "execution_count": 68,
   "metadata": {},
   "outputs": [],
   "source": [
    "def geo2addr2(location):\n",
    "    parameters = {'output': 'json', 'key': '3b90f044d1343d0dd4799129272c93a7','location': location, 'extensions':'all'}\n",
    "    base = 'http://restapi.amap.com/v3/geocode/regeo'\n",
    "    response = requests.get(base, parameters)\n",
    "    formatted_address = response.json()['regeocode']['formatted_address']\n",
    "    return formatted_address\n"
   ]
  },
  {
   "cell_type": "code",
   "execution_count": 69,
   "metadata": {},
   "outputs": [
    {
     "name": "stdout",
     "output_type": "stream",
     "text": [
      "北京市朝阳区望京街道方恒国际中心B座\n"
     ]
    }
   ],
   "source": [
    "print(geo2addr2('116.481488,39.990464'))"
   ]
  },
  {
   "cell_type": "code",
   "execution_count": null,
   "metadata": {},
   "outputs": [],
   "source": []
  }
 ],
 "metadata": {
  "kernelspec": {
   "display_name": "Python 3",
   "language": "python",
   "name": "python3"
  },
  "language_info": {
   "codemirror_mode": {
    "name": "ipython",
    "version": 3
   },
   "file_extension": ".py",
   "mimetype": "text/x-python",
   "name": "python",
   "nbconvert_exporter": "python",
   "pygments_lexer": "ipython3",
   "version": "3.8.3"
  }
 },
 "nbformat": 4,
 "nbformat_minor": 4
}
