{
 "cells": [
  {
   "cell_type": "code",
   "execution_count": 1,
   "metadata": {},
   "outputs": [],
   "source": [
    "import pandas as pd\n",
    "import haversine as hs"
   ]
  },
  {
   "cell_type": "code",
   "execution_count": 2,
   "metadata": {
    "pycharm": {
     "name": "#%%\n"
    }
   },
   "outputs": [
    {
     "data": {
      "text/html": [
       "<div>\n",
       "<style scoped>\n",
       "    .dataframe tbody tr th:only-of-type {\n",
       "        vertical-align: middle;\n",
       "    }\n",
       "\n",
       "    .dataframe tbody tr th {\n",
       "        vertical-align: top;\n",
       "    }\n",
       "\n",
       "    .dataframe thead th {\n",
       "        text-align: right;\n",
       "    }\n",
       "</style>\n",
       "<table border=\"1\" class=\"dataframe\">\n",
       "  <thead>\n",
       "    <tr style=\"text-align: right;\">\n",
       "      <th></th>\n",
       "      <th>taxi_id</th>\n",
       "      <th>time</th>\n",
       "      <th>lon</th>\n",
       "      <th>lat</th>\n",
       "      <th>is_passenger</th>\n",
       "      <th>speed</th>\n",
       "    </tr>\n",
       "  </thead>\n",
       "  <tbody>\n",
       "    <tr>\n",
       "      <th>0</th>\n",
       "      <td>22224</td>\n",
       "      <td>00:00:12</td>\n",
       "      <td>114.039169</td>\n",
       "      <td>22.565283</td>\n",
       "      <td>0</td>\n",
       "      <td>45</td>\n",
       "    </tr>\n",
       "    <tr>\n",
       "      <th>1</th>\n",
       "      <td>22224</td>\n",
       "      <td>00:00:27</td>\n",
       "      <td>114.040001</td>\n",
       "      <td>22.563417</td>\n",
       "      <td>0</td>\n",
       "      <td>69</td>\n",
       "    </tr>\n",
       "    <tr>\n",
       "      <th>2</th>\n",
       "      <td>22224</td>\n",
       "      <td>00:00:42</td>\n",
       "      <td>114.041298</td>\n",
       "      <td>22.561033</td>\n",
       "      <td>0</td>\n",
       "      <td>70</td>\n",
       "    </tr>\n",
       "    <tr>\n",
       "      <th>3</th>\n",
       "      <td>22224</td>\n",
       "      <td>00:00:57</td>\n",
       "      <td>114.042366</td>\n",
       "      <td>22.559084</td>\n",
       "      <td>0</td>\n",
       "      <td>69</td>\n",
       "    </tr>\n",
       "    <tr>\n",
       "      <th>4</th>\n",
       "      <td>22224</td>\n",
       "      <td>00:01:23</td>\n",
       "      <td>114.043114</td>\n",
       "      <td>22.556850</td>\n",
       "      <td>0</td>\n",
       "      <td>23</td>\n",
       "    </tr>\n",
       "  </tbody>\n",
       "</table>\n",
       "</div>"
      ],
      "text/plain": [
       "   taxi_id      time         lon        lat  is_passenger  speed\n",
       "0    22224  00:00:12  114.039169  22.565283             0     45\n",
       "1    22224  00:00:27  114.040001  22.563417             0     69\n",
       "2    22224  00:00:42  114.041298  22.561033             0     70\n",
       "3    22224  00:00:57  114.042366  22.559084             0     69\n",
       "4    22224  00:01:23  114.043114  22.556850             0     23"
      ]
     },
     "execution_count": 2,
     "metadata": {},
     "output_type": "execute_result"
    }
   ],
   "source": [
    "# Load Data\n",
    "CSV_FILE_PATH = './data/sample_taxi_after_clean.csv'\n",
    "df = pd.read_csv(CSV_FILE_PATH)\n",
    "df.head()"
   ]
  },
  {
   "cell_type": "code",
   "execution_count": 3,
   "metadata": {
    "pycharm": {
     "name": "#%%\n"
    }
   },
   "outputs": [],
   "source": [
    "# Type Conversion\n",
    "df.lon = df.lon.astype('double')\n",
    "df.lat = df.lat.astype('double')"
   ]
  },
  {
   "cell_type": "code",
   "execution_count": 4,
   "metadata": {
    "pycharm": {
     "name": "#%%\n"
    }
   },
   "outputs": [],
   "source": [
    "# Statistical Data\n",
    "taxi_counts = dict(df.taxi_id.value_counts())"
   ]
  },
  {
   "cell_type": "code",
   "execution_count": 5,
   "metadata": {
    "pycharm": {
     "name": "#%%\n"
    }
   },
   "outputs": [],
   "source": [
    "id_list = list(taxi_counts.keys())"
   ]
  },
  {
   "cell_type": "code",
   "execution_count": 8,
   "metadata": {
    "pycharm": {
     "name": "#%%\n"
    }
   },
   "outputs": [],
   "source": [
    "# Obtain OD latitude and longitude, and calculate OD polyline distance\n",
    "OD_list = []\n",
    "OD_path = []\n",
    "for id in id_list:\n",
    "    id_df = df[df.taxi_id == id]\n",
    "    id_df = id_df.sort_values(by='time')\n",
    "#     id_df = id_df[id_df.duplicated('time')== False]\n",
    "    passenger_check = False\n",
    "    distance = 0\n",
    "    last_point = [0, 0, 0]\n",
    "#     print(id_df.shape)\n",
    "    for index, row in id_df.iterrows():\n",
    "        if (len(row)==0):\n",
    "            print(row)\n",
    "            continue\n",
    "        if (passenger_check and row['is_passenger'] == 0):\n",
    "            passenger_check = False\n",
    "            loc1 = (last_point[0], last_point[1])\n",
    "            if (last_point == [0, 0, 0]):\n",
    "                loc1 = (OD_path[0][1], OD_path[0][2])\n",
    "            loc2 = (row['lon'], row['lat'])\n",
    "            distance += hs.haversine(loc1, loc2)\n",
    "            if (distance > 100):\n",
    "                print(distance)\n",
    "            \n",
    "            OD_path.append([row['time'], row['lon'], row['lat']])\n",
    "            OD_path.append(distance)\n",
    "            OD_list.append(OD_path.copy())\n",
    "            OD_path = []\n",
    "            distance = 0\n",
    "            last_point = [0, 0, 0]\n",
    "        elif ((not passenger_check) and row['is_passenger'] == 1):\n",
    "            passenger_check = True\n",
    "            OD_path = []\n",
    "            OD_path.append([row['time'], row['lon'], row['lat']])\n",
    "#             print(OD_path)\n",
    "            last_point = [0, 0, 0]\n",
    "        elif passenger_check and row['is_passenger'] == 1 and last_point != [0, 0, 0]:\n",
    "            loc1 = (last_point[0], last_point[1])\n",
    "            loc2 = (row['lon'], row['lat'])\n",
    "            distance += hs.haversine(loc1, loc2)\n",
    "            if (distance > 100):\n",
    "                print(distance)\n",
    "            last_point[0] = row['lon']\n",
    "            last_point[1] = row['lat']\n",
    "            last_point[2] = row['time']"
   ]
  },
  {
   "cell_type": "code",
   "execution_count": 10,
   "metadata": {
    "pycharm": {
     "name": "#%%\n"
    }
   },
   "outputs": [],
   "source": [
    "# Format conversion\n",
    "r_df1 = pd.DataFrame(\n",
    "    columns=['from_time', 'lng1', 'lat1', 'to_time', 'lng2', 'lat2', 'distance'])\n",
    "for i in OD_list:\n",
    "    slide_series = pd.Series(\n",
    "        {'from_time': i[0][0],\n",
    "         'lng1': i[0][1],\n",
    "         'lat1': i[0][2],\n",
    "         'to_time': i[1][0],\n",
    "         'lng2': i[1][1],\n",
    "         'lat2': i[1][2],\n",
    "         'distance': i[2]})\n",
    "    r_df1 = r_df1.append(slide_series, ignore_index=True)\n",
    "\n"
   ]
  },
  {
   "cell_type": "code",
   "execution_count": null,
   "outputs": [],
   "source": [
    "r_df1.describe()"
   ],
   "metadata": {
    "collapsed": false,
    "pycharm": {
     "name": "#%%\n"
    }
   }
  },
  {
   "cell_type": "code",
   "execution_count": null,
   "outputs": [],
   "source": [
    "# save data\n",
    "r_df1.to_csv(\"./data/OD_distance_data.csv\", index=False, sep=',')"
   ],
   "metadata": {
    "collapsed": false,
    "pycharm": {
     "name": "#%%\n"
    }
   }
  }
 ],
 "metadata": {
  "kernelspec": {
   "display_name": "Python 3",
   "language": "python",
   "name": "python3"
  },
  "language_info": {
   "codemirror_mode": {
    "name": "ipython",
    "version": 3
   },
   "file_extension": ".py",
   "mimetype": "text/x-python",
   "name": "python",
   "nbconvert_exporter": "python",
   "pygments_lexer": "ipython3",
   "version": "3.7.4"
  }
 },
 "nbformat": 4,
 "nbformat_minor": 1
}