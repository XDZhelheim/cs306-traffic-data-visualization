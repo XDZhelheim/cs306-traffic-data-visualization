{
 "cells": [
  {
   "cell_type": "code",
   "execution_count": 1,
   "metadata": {},
   "outputs": [],
   "source": [
    "import pandas as pd\n"
   ]
  },
  {
   "cell_type": "code",
   "execution_count": 2,
   "metadata": {
    "pycharm": {
     "name": "#%%\n"
    }
   },
   "outputs": [
    {
     "data": {
      "text/html": [
       "<div>\n",
       "<style scoped>\n",
       "    .dataframe tbody tr th:only-of-type {\n",
       "        vertical-align: middle;\n",
       "    }\n",
       "\n",
       "    .dataframe tbody tr th {\n",
       "        vertical-align: top;\n",
       "    }\n",
       "\n",
       "    .dataframe thead th {\n",
       "        text-align: right;\n",
       "    }\n",
       "</style>\n",
       "<table border=\"1\" class=\"dataframe\">\n",
       "  <thead>\n",
       "    <tr style=\"text-align: right;\">\n",
       "      <th></th>\n",
       "      <th>taxi_id</th>\n",
       "      <th>time</th>\n",
       "      <th>lon</th>\n",
       "      <th>lat</th>\n",
       "      <th>is_passenger</th>\n",
       "      <th>speed</th>\n",
       "    </tr>\n",
       "  </thead>\n",
       "  <tbody>\n",
       "    <tr>\n",
       "      <th>0</th>\n",
       "      <td>22224</td>\n",
       "      <td>00:00:12</td>\n",
       "      <td>114.039169</td>\n",
       "      <td>22.565283</td>\n",
       "      <td>0</td>\n",
       "      <td>45</td>\n",
       "    </tr>\n",
       "    <tr>\n",
       "      <th>1</th>\n",
       "      <td>22224</td>\n",
       "      <td>00:00:27</td>\n",
       "      <td>114.040001</td>\n",
       "      <td>22.563417</td>\n",
       "      <td>0</td>\n",
       "      <td>69</td>\n",
       "    </tr>\n",
       "    <tr>\n",
       "      <th>2</th>\n",
       "      <td>22224</td>\n",
       "      <td>00:00:42</td>\n",
       "      <td>114.041298</td>\n",
       "      <td>22.561033</td>\n",
       "      <td>0</td>\n",
       "      <td>70</td>\n",
       "    </tr>\n",
       "    <tr>\n",
       "      <th>3</th>\n",
       "      <td>22224</td>\n",
       "      <td>00:00:57</td>\n",
       "      <td>114.042366</td>\n",
       "      <td>22.559084</td>\n",
       "      <td>0</td>\n",
       "      <td>69</td>\n",
       "    </tr>\n",
       "    <tr>\n",
       "      <th>4</th>\n",
       "      <td>22224</td>\n",
       "      <td>00:01:23</td>\n",
       "      <td>114.043114</td>\n",
       "      <td>22.556850</td>\n",
       "      <td>0</td>\n",
       "      <td>23</td>\n",
       "    </tr>\n",
       "  </tbody>\n",
       "</table>\n",
       "</div>"
      ],
      "text/plain": [
       "   taxi_id      time         lon        lat  is_passenger  speed\n",
       "0    22224  00:00:12  114.039169  22.565283             0     45\n",
       "1    22224  00:00:27  114.040001  22.563417             0     69\n",
       "2    22224  00:00:42  114.041298  22.561033             0     70\n",
       "3    22224  00:00:57  114.042366  22.559084             0     69\n",
       "4    22224  00:01:23  114.043114  22.556850             0     23"
      ]
     },
     "execution_count": 2,
     "metadata": {},
     "output_type": "execute_result"
    }
   ],
   "source": [
    "CSV_FILE_PATH = './data/sample_taxi_after_clean.csv'\n",
    "df = pd.read_csv(CSV_FILE_PATH)\n",
    "df.head()"
   ]
  },
  {
   "cell_type": "code",
   "execution_count": 3,
   "metadata": {
    "pycharm": {
     "name": "#%%\n"
    }
   },
   "outputs": [],
   "source": [
    "df.lon = df.lon.astype('double')\n",
    "df.lat = df.lat.astype('double')"
   ]
  },
  {
   "cell_type": "code",
   "execution_count": 4,
   "metadata": {
    "pycharm": {
     "name": "#%%\n"
    }
   },
   "outputs": [],
   "source": [
    "taxi_counts = dict(df.taxi_id.value_counts())"
   ]
  },
  {
   "cell_type": "code",
   "execution_count": 5,
   "metadata": {
    "pycharm": {
     "name": "#%%\n"
    }
   },
   "outputs": [],
   "source": [
    "id_list = list(taxi_counts.keys())"
   ]
  },
  {
   "cell_type": "code",
   "execution_count": 6,
   "metadata": {
    "pycharm": {
     "name": "#%%\n"
    }
   },
   "outputs": [],
   "source": [
    "import haversine as hs\n",
    "\n",
    "# loc1 = (loc1_lng, loc1_la)\n",
    "# loc2 = (loc2_lng, loc2_la)\n",
    "# dis = hs.haversine(loc1, loc2)"
   ]
  },
  {
   "cell_type": "code",
   "execution_count": 7,
   "metadata": {},
   "outputs": [
    {
     "data": {
      "text/html": [
       "<div>\n",
       "<style scoped>\n",
       "    .dataframe tbody tr th:only-of-type {\n",
       "        vertical-align: middle;\n",
       "    }\n",
       "\n",
       "    .dataframe tbody tr th {\n",
       "        vertical-align: top;\n",
       "    }\n",
       "\n",
       "    .dataframe thead th {\n",
       "        text-align: right;\n",
       "    }\n",
       "</style>\n",
       "<table border=\"1\" class=\"dataframe\">\n",
       "  <thead>\n",
       "    <tr style=\"text-align: right;\">\n",
       "      <th></th>\n",
       "      <th>taxi_id</th>\n",
       "      <th>time</th>\n",
       "      <th>lon</th>\n",
       "      <th>lat</th>\n",
       "      <th>is_passenger</th>\n",
       "      <th>speed</th>\n",
       "    </tr>\n",
       "  </thead>\n",
       "  <tbody>\n",
       "    <tr>\n",
       "      <th>0</th>\n",
       "      <td>22224</td>\n",
       "      <td>00:00:12</td>\n",
       "      <td>114.039169</td>\n",
       "      <td>22.565283</td>\n",
       "      <td>0</td>\n",
       "      <td>45</td>\n",
       "    </tr>\n",
       "    <tr>\n",
       "      <th>1</th>\n",
       "      <td>22224</td>\n",
       "      <td>00:00:27</td>\n",
       "      <td>114.040001</td>\n",
       "      <td>22.563417</td>\n",
       "      <td>0</td>\n",
       "      <td>69</td>\n",
       "    </tr>\n",
       "    <tr>\n",
       "      <th>2</th>\n",
       "      <td>22224</td>\n",
       "      <td>00:00:42</td>\n",
       "      <td>114.041298</td>\n",
       "      <td>22.561033</td>\n",
       "      <td>0</td>\n",
       "      <td>70</td>\n",
       "    </tr>\n",
       "    <tr>\n",
       "      <th>3</th>\n",
       "      <td>22224</td>\n",
       "      <td>00:00:57</td>\n",
       "      <td>114.042366</td>\n",
       "      <td>22.559084</td>\n",
       "      <td>0</td>\n",
       "      <td>69</td>\n",
       "    </tr>\n",
       "    <tr>\n",
       "      <th>4</th>\n",
       "      <td>22224</td>\n",
       "      <td>00:01:23</td>\n",
       "      <td>114.043114</td>\n",
       "      <td>22.556850</td>\n",
       "      <td>0</td>\n",
       "      <td>23</td>\n",
       "    </tr>\n",
       "    <tr>\n",
       "      <th>...</th>\n",
       "      <td>...</td>\n",
       "      <td>...</td>\n",
       "      <td>...</td>\n",
       "      <td>...</td>\n",
       "      <td>...</td>\n",
       "      <td>...</td>\n",
       "    </tr>\n",
       "    <tr>\n",
       "      <th>4290</th>\n",
       "      <td>22224</td>\n",
       "      <td>23:52:42</td>\n",
       "      <td>114.431953</td>\n",
       "      <td>22.784201</td>\n",
       "      <td>1</td>\n",
       "      <td>92</td>\n",
       "    </tr>\n",
       "    <tr>\n",
       "      <th>4291</th>\n",
       "      <td>22224</td>\n",
       "      <td>23:52:57</td>\n",
       "      <td>114.434868</td>\n",
       "      <td>22.785467</td>\n",
       "      <td>1</td>\n",
       "      <td>83</td>\n",
       "    </tr>\n",
       "    <tr>\n",
       "      <th>4292</th>\n",
       "      <td>22224</td>\n",
       "      <td>23:53:12</td>\n",
       "      <td>114.437614</td>\n",
       "      <td>22.787018</td>\n",
       "      <td>1</td>\n",
       "      <td>83</td>\n",
       "    </tr>\n",
       "    <tr>\n",
       "      <th>4293</th>\n",
       "      <td>22224</td>\n",
       "      <td>23:53:27</td>\n",
       "      <td>114.440018</td>\n",
       "      <td>22.788668</td>\n",
       "      <td>1</td>\n",
       "      <td>80</td>\n",
       "    </tr>\n",
       "    <tr>\n",
       "      <th>4294</th>\n",
       "      <td>22224</td>\n",
       "      <td>23:59:55</td>\n",
       "      <td>114.450035</td>\n",
       "      <td>22.806749</td>\n",
       "      <td>1</td>\n",
       "      <td>16</td>\n",
       "    </tr>\n",
       "  </tbody>\n",
       "</table>\n",
       "<p>4287 rows × 6 columns</p>\n",
       "</div>"
      ],
      "text/plain": [
       "      taxi_id      time         lon        lat  is_passenger  speed\n",
       "0       22224  00:00:12  114.039169  22.565283             0     45\n",
       "1       22224  00:00:27  114.040001  22.563417             0     69\n",
       "2       22224  00:00:42  114.041298  22.561033             0     70\n",
       "3       22224  00:00:57  114.042366  22.559084             0     69\n",
       "4       22224  00:01:23  114.043114  22.556850             0     23\n",
       "...       ...       ...         ...        ...           ...    ...\n",
       "4290    22224  23:52:42  114.431953  22.784201             1     92\n",
       "4291    22224  23:52:57  114.434868  22.785467             1     83\n",
       "4292    22224  23:53:12  114.437614  22.787018             1     83\n",
       "4293    22224  23:53:27  114.440018  22.788668             1     80\n",
       "4294    22224  23:59:55  114.450035  22.806749             1     16\n",
       "\n",
       "[4287 rows x 6 columns]"
      ]
     },
     "execution_count": 7,
     "metadata": {},
     "output_type": "execute_result"
    }
   ],
   "source": [
    "test = df[df.taxi_id == 22224]\n",
    "test[test.duplicated('time')== False]"
   ]
  },
  {
   "cell_type": "code",
   "execution_count": 8,
   "metadata": {
    "pycharm": {
     "name": "#%%\n"
    }
   },
   "outputs": [],
   "source": [
    "OD_list = []\n",
    "OD_path = []\n",
    "for id in id_list:\n",
    "    id_df = df[df.taxi_id == id]\n",
    "    id_df = id_df.sort_values(by='time')\n",
    "#     id_df = id_df[id_df.duplicated('time')== False]\n",
    "    passenger_check = False\n",
    "\n",
    "#     if (id_df.iloc[0]['is_passenger'] == 0):\n",
    "#         passenger_check = False\n",
    "#     else:\n",
    "#         passenger_check = True\n",
    "    distance = 0\n",
    "    last_point = [0, 0, 0]\n",
    "#     print(id_df.shape)\n",
    "    for index, row in id_df.iterrows():\n",
    "        if (len(row)==0):\n",
    "            print(row)\n",
    "            continue\n",
    "        if (passenger_check and row['is_passenger'] == 0):\n",
    "            passenger_check = False\n",
    "            loc1 = (last_point[0], last_point[1])\n",
    "            if (last_point == [0, 0, 0]):\n",
    "                loc1 = (OD_path[0][1], OD_path[0][2])\n",
    "            loc2 = (row['lon'], row['lat'])\n",
    "            distance += hs.haversine(loc1, loc2)\n",
    "            if (distance > 100):\n",
    "                print(distance)\n",
    "            \n",
    "            OD_path.append([row['time'], row['lon'], row['lat']])\n",
    "            OD_path.append(distance)\n",
    "            OD_list.append(OD_path.copy())\n",
    "            OD_path = []\n",
    "            distance = 0\n",
    "            last_point = [0, 0, 0]\n",
    "        elif ((not passenger_check) and row['is_passenger'] == 1):\n",
    "            passenger_check = True\n",
    "            OD_path = []\n",
    "            OD_path.append([row['time'], row['lon'], row['lat']])\n",
    "#             print(OD_path)\n",
    "            last_point = [0, 0, 0]\n",
    "        elif passenger_check and row['is_passenger'] == 1 and last_point != [0, 0, 0]:\n",
    "            loc1 = (last_point[0], last_point[1])\n",
    "            loc2 = (row['lon'], row['lat'])\n",
    "            distance += hs.haversine(loc1, loc2)\n",
    "            if (distance > 100):\n",
    "                print(distance)\n",
    "            last_point[0] = row['lon']\n",
    "            last_point[1] = row['lat']\n",
    "            last_point[2] = row['time']"
   ]
  },
  {
   "cell_type": "code",
   "execution_count": 9,
   "metadata": {
    "pycharm": {
     "name": "#%%\n"
    }
   },
   "outputs": [
    {
     "data": {
      "text/plain": [
       "[['01:22:23', 113.842796, 22.613617],\n",
       " ['01:23:17', 113.845634, 22.61175],\n",
       " 0.3265402530312467]"
      ]
     },
     "execution_count": 9,
     "metadata": {},
     "output_type": "execute_result"
    }
   ],
   "source": [
    "OD_list[0]"
   ]
  },
  {
   "cell_type": "code",
   "execution_count": 10,
   "metadata": {
    "pycharm": {
     "name": "#%%\n"
    }
   },
   "outputs": [],
   "source": [
    "r_df1 = pd.DataFrame(\n",
    "    columns=['from_time', 'lng1', 'lat1', 'to_time', 'lng2', 'lat2', 'distance'])\n",
    "for i in OD_list:\n",
    "    slide_series = pd.Series(\n",
    "        {'from_time': i[0][0],\n",
    "         'lng1': i[0][1],\n",
    "         'lat1': i[0][2],\n",
    "         'to_time': i[1][0],\n",
    "         'lng2': i[1][1],\n",
    "         'lat2': i[1][2],\n",
    "         'distance': i[2]})\n",
    "    r_df1 = r_df1.append(slide_series, ignore_index=True)\n",
    "r_df1.to_csv(\"./data/OD_distance_data.csv\", index=False, sep=',')\n"
   ]
  },
  {
   "cell_type": "code",
   "execution_count": 11,
   "metadata": {
    "pycharm": {
     "name": "#%%\n"
    }
   },
   "outputs": [
    {
     "data": {
      "text/html": [
       "<div>\n",
       "<style scoped>\n",
       "    .dataframe tbody tr th:only-of-type {\n",
       "        vertical-align: middle;\n",
       "    }\n",
       "\n",
       "    .dataframe tbody tr th {\n",
       "        vertical-align: top;\n",
       "    }\n",
       "\n",
       "    .dataframe thead th {\n",
       "        text-align: right;\n",
       "    }\n",
       "</style>\n",
       "<table border=\"1\" class=\"dataframe\">\n",
       "  <thead>\n",
       "    <tr style=\"text-align: right;\">\n",
       "      <th></th>\n",
       "      <th>lng1</th>\n",
       "      <th>lat1</th>\n",
       "      <th>lng2</th>\n",
       "      <th>lat2</th>\n",
       "      <th>distance</th>\n",
       "    </tr>\n",
       "  </thead>\n",
       "  <tbody>\n",
       "    <tr>\n",
       "      <th>count</th>\n",
       "      <td>107462.000000</td>\n",
       "      <td>107462.000000</td>\n",
       "      <td>107462.000000</td>\n",
       "      <td>107462.000000</td>\n",
       "      <td>107462.000000</td>\n",
       "    </tr>\n",
       "    <tr>\n",
       "      <th>mean</th>\n",
       "      <td>114.044177</td>\n",
       "      <td>22.573733</td>\n",
       "      <td>114.044207</td>\n",
       "      <td>22.575451</td>\n",
       "      <td>3.853796</td>\n",
       "    </tr>\n",
       "    <tr>\n",
       "      <th>std</th>\n",
       "      <td>0.096704</td>\n",
       "      <td>0.054546</td>\n",
       "      <td>0.097925</td>\n",
       "      <td>0.056150</td>\n",
       "      <td>5.108982</td>\n",
       "    </tr>\n",
       "    <tr>\n",
       "      <th>min</th>\n",
       "      <td>113.766800</td>\n",
       "      <td>22.357384</td>\n",
       "      <td>113.766785</td>\n",
       "      <td>22.325800</td>\n",
       "      <td>0.000000</td>\n",
       "    </tr>\n",
       "    <tr>\n",
       "      <th>25%</th>\n",
       "      <td>113.982216</td>\n",
       "      <td>22.538067</td>\n",
       "      <td>113.979118</td>\n",
       "      <td>22.538050</td>\n",
       "      <td>1.000147</td>\n",
       "    </tr>\n",
       "    <tr>\n",
       "      <th>50%</th>\n",
       "      <td>114.055481</td>\n",
       "      <td>22.552782</td>\n",
       "      <td>114.055496</td>\n",
       "      <td>22.554867</td>\n",
       "      <td>2.076694</td>\n",
       "    </tr>\n",
       "    <tr>\n",
       "      <th>75%</th>\n",
       "      <td>114.112644</td>\n",
       "      <td>22.602899</td>\n",
       "      <td>114.112984</td>\n",
       "      <td>22.605198</td>\n",
       "      <td>4.517206</td>\n",
       "    </tr>\n",
       "    <tr>\n",
       "      <th>max</th>\n",
       "      <td>114.480751</td>\n",
       "      <td>23.180433</td>\n",
       "      <td>114.602936</td>\n",
       "      <td>23.091999</td>\n",
       "      <td>73.397396</td>\n",
       "    </tr>\n",
       "  </tbody>\n",
       "</table>\n",
       "</div>"
      ],
      "text/plain": [
       "                lng1           lat1           lng2           lat2  \\\n",
       "count  107462.000000  107462.000000  107462.000000  107462.000000   \n",
       "mean      114.044177      22.573733     114.044207      22.575451   \n",
       "std         0.096704       0.054546       0.097925       0.056150   \n",
       "min       113.766800      22.357384     113.766785      22.325800   \n",
       "25%       113.982216      22.538067     113.979118      22.538050   \n",
       "50%       114.055481      22.552782     114.055496      22.554867   \n",
       "75%       114.112644      22.602899     114.112984      22.605198   \n",
       "max       114.480751      23.180433     114.602936      23.091999   \n",
       "\n",
       "            distance  \n",
       "count  107462.000000  \n",
       "mean        3.853796  \n",
       "std         5.108982  \n",
       "min         0.000000  \n",
       "25%         1.000147  \n",
       "50%         2.076694  \n",
       "75%         4.517206  \n",
       "max        73.397396  "
      ]
     },
     "execution_count": 11,
     "metadata": {},
     "output_type": "execute_result"
    }
   ],
   "source": [
    "r_df1.describe()"
   ]
  }
 ],
 "metadata": {
  "kernelspec": {
   "display_name": "Python 3",
   "language": "python",
   "name": "python3"
  },
  "language_info": {
   "codemirror_mode": {
    "name": "ipython",
    "version": 3
   },
   "file_extension": ".py",
   "mimetype": "text/x-python",
   "name": "python",
   "nbconvert_exporter": "python",
   "pygments_lexer": "ipython3",
   "version": "3.7.4"
  }
 },
 "nbformat": 4,
 "nbformat_minor": 1
}
