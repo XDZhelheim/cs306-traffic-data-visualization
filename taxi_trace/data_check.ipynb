{
 "metadata": {
  "language_info": {
   "codemirror_mode": {
    "name": "ipython",
    "version": 3
   },
   "file_extension": ".py",
   "mimetype": "text/x-python",
   "name": "python",
   "nbconvert_exporter": "python",
   "pygments_lexer": "ipython3",
   "version": "3.8.5"
  },
  "orig_nbformat": 2,
  "kernelspec": {
   "name": "python385jvsc74a57bd04ce0e62306dd6a5716965d4519ada776f947e6dfc145b604b11307c10277ef29",
   "display_name": "Python 3.8.5 64-bit"
  }
 },
 "nbformat": 4,
 "nbformat_minor": 2,
 "cells": [
  {
   "cell_type": "code",
   "execution_count": 6,
   "metadata": {},
   "outputs": [
    {
     "output_type": "stream",
     "name": "stdout",
     "text": [
      "[22224 22228 22231 22236 22240 22241 22242 22243]\n"
     ]
    },
    {
     "output_type": "execute_result",
     "data": {
      "text/plain": [
       "       taxi_id      time         lon        lat  is_passenger  speed\n",
       "0        22224  10:13:42  113.887032  22.547518             0      0\n",
       "1        22224  19:31:36  113.909554  22.582199             1     71\n",
       "2        22224  17:06:32  113.916748  22.623550             1    100\n",
       "3        22224  15:07:19  113.922432  22.535383             1     21\n",
       "4        22224  14:55:18  113.922668  22.520033             1     10\n",
       "...        ...       ...         ...        ...           ...    ...\n",
       "19995    22243  15:39:28  114.044098  22.557117             1      0\n",
       "19996    22243  08:08:26  114.044151  22.549650             1     47\n",
       "19997    22243  07:51:50  114.044182  22.555483             1     35\n",
       "19998    22243  15:59:42  114.044235  22.550182             1      0\n",
       "19999    22243  08:44:05  114.044365  22.531183             1     49\n",
       "\n",
       "[20000 rows x 6 columns]"
      ],
      "text/html": "<div>\n<style scoped>\n    .dataframe tbody tr th:only-of-type {\n        vertical-align: middle;\n    }\n\n    .dataframe tbody tr th {\n        vertical-align: top;\n    }\n\n    .dataframe thead th {\n        text-align: right;\n    }\n</style>\n<table border=\"1\" class=\"dataframe\">\n  <thead>\n    <tr style=\"text-align: right;\">\n      <th></th>\n      <th>taxi_id</th>\n      <th>time</th>\n      <th>lon</th>\n      <th>lat</th>\n      <th>is_passenger</th>\n      <th>speed</th>\n    </tr>\n  </thead>\n  <tbody>\n    <tr>\n      <th>0</th>\n      <td>22224</td>\n      <td>10:13:42</td>\n      <td>113.887032</td>\n      <td>22.547518</td>\n      <td>0</td>\n      <td>0</td>\n    </tr>\n    <tr>\n      <th>1</th>\n      <td>22224</td>\n      <td>19:31:36</td>\n      <td>113.909554</td>\n      <td>22.582199</td>\n      <td>1</td>\n      <td>71</td>\n    </tr>\n    <tr>\n      <th>2</th>\n      <td>22224</td>\n      <td>17:06:32</td>\n      <td>113.916748</td>\n      <td>22.623550</td>\n      <td>1</td>\n      <td>100</td>\n    </tr>\n    <tr>\n      <th>3</th>\n      <td>22224</td>\n      <td>15:07:19</td>\n      <td>113.922432</td>\n      <td>22.535383</td>\n      <td>1</td>\n      <td>21</td>\n    </tr>\n    <tr>\n      <th>4</th>\n      <td>22224</td>\n      <td>14:55:18</td>\n      <td>113.922668</td>\n      <td>22.520033</td>\n      <td>1</td>\n      <td>10</td>\n    </tr>\n    <tr>\n      <th>...</th>\n      <td>...</td>\n      <td>...</td>\n      <td>...</td>\n      <td>...</td>\n      <td>...</td>\n      <td>...</td>\n    </tr>\n    <tr>\n      <th>19995</th>\n      <td>22243</td>\n      <td>15:39:28</td>\n      <td>114.044098</td>\n      <td>22.557117</td>\n      <td>1</td>\n      <td>0</td>\n    </tr>\n    <tr>\n      <th>19996</th>\n      <td>22243</td>\n      <td>08:08:26</td>\n      <td>114.044151</td>\n      <td>22.549650</td>\n      <td>1</td>\n      <td>47</td>\n    </tr>\n    <tr>\n      <th>19997</th>\n      <td>22243</td>\n      <td>07:51:50</td>\n      <td>114.044182</td>\n      <td>22.555483</td>\n      <td>1</td>\n      <td>35</td>\n    </tr>\n    <tr>\n      <th>19998</th>\n      <td>22243</td>\n      <td>15:59:42</td>\n      <td>114.044235</td>\n      <td>22.550182</td>\n      <td>1</td>\n      <td>0</td>\n    </tr>\n    <tr>\n      <th>19999</th>\n      <td>22243</td>\n      <td>08:44:05</td>\n      <td>114.044365</td>\n      <td>22.531183</td>\n      <td>1</td>\n      <td>49</td>\n    </tr>\n  </tbody>\n</table>\n<p>20000 rows × 6 columns</p>\n</div>"
     },
     "metadata": {},
     "execution_count": 6
    }
   ],
   "source": [
    "import pandas as pd\n",
    "import numpy as np\n",
    "\n",
    "df=pd.read_csv(\"./sample_taxi.csv\", nrows=20000)\n",
    "\n",
    "print(np.unique(df[\"taxi_id\"]))\n",
    "\n",
    "df"
   ]
  },
  {
   "cell_type": "code",
   "execution_count": 9,
   "metadata": {},
   "outputs": [
    {
     "output_type": "execute_result",
     "data": {
      "text/plain": [
       "       taxi_id      time         lon        lat  is_passenger  speed\n",
       "12114    22241  11:26:42  114.299545  22.603609             0     29\n",
       "12115    22241  14:34:12  114.016357  22.555342             1     64\n",
       "12116    22241  14:25:43  114.017776  22.541250             0     20\n",
       "12117    22241  06:09:42  114.025467  22.559738             0     46\n",
       "12118    22241  15:03:42  114.033836  22.569710             0     46\n",
       "...        ...       ...         ...        ...           ...    ...\n",
       "13309    22241  12:24:42  114.157707  22.561203             1     60\n",
       "13310    22241  11:11:43  114.176147  22.560915             1     84\n",
       "13311    22241  12:22:13  114.183548  22.557375             1     73\n",
       "13312    22241  12:18:13  114.226738  22.567507             1     74\n",
       "13313    22241  11:32:43  114.307610  22.601313             0      0\n",
       "\n",
       "[1200 rows x 6 columns]"
      ],
      "text/html": "<div>\n<style scoped>\n    .dataframe tbody tr th:only-of-type {\n        vertical-align: middle;\n    }\n\n    .dataframe tbody tr th {\n        vertical-align: top;\n    }\n\n    .dataframe thead th {\n        text-align: right;\n    }\n</style>\n<table border=\"1\" class=\"dataframe\">\n  <thead>\n    <tr style=\"text-align: right;\">\n      <th></th>\n      <th>taxi_id</th>\n      <th>time</th>\n      <th>lon</th>\n      <th>lat</th>\n      <th>is_passenger</th>\n      <th>speed</th>\n    </tr>\n  </thead>\n  <tbody>\n    <tr>\n      <th>12114</th>\n      <td>22241</td>\n      <td>11:26:42</td>\n      <td>114.299545</td>\n      <td>22.603609</td>\n      <td>0</td>\n      <td>29</td>\n    </tr>\n    <tr>\n      <th>12115</th>\n      <td>22241</td>\n      <td>14:34:12</td>\n      <td>114.016357</td>\n      <td>22.555342</td>\n      <td>1</td>\n      <td>64</td>\n    </tr>\n    <tr>\n      <th>12116</th>\n      <td>22241</td>\n      <td>14:25:43</td>\n      <td>114.017776</td>\n      <td>22.541250</td>\n      <td>0</td>\n      <td>20</td>\n    </tr>\n    <tr>\n      <th>12117</th>\n      <td>22241</td>\n      <td>06:09:42</td>\n      <td>114.025467</td>\n      <td>22.559738</td>\n      <td>0</td>\n      <td>46</td>\n    </tr>\n    <tr>\n      <th>12118</th>\n      <td>22241</td>\n      <td>15:03:42</td>\n      <td>114.033836</td>\n      <td>22.569710</td>\n      <td>0</td>\n      <td>46</td>\n    </tr>\n    <tr>\n      <th>...</th>\n      <td>...</td>\n      <td>...</td>\n      <td>...</td>\n      <td>...</td>\n      <td>...</td>\n      <td>...</td>\n    </tr>\n    <tr>\n      <th>13309</th>\n      <td>22241</td>\n      <td>12:24:42</td>\n      <td>114.157707</td>\n      <td>22.561203</td>\n      <td>1</td>\n      <td>60</td>\n    </tr>\n    <tr>\n      <th>13310</th>\n      <td>22241</td>\n      <td>11:11:43</td>\n      <td>114.176147</td>\n      <td>22.560915</td>\n      <td>1</td>\n      <td>84</td>\n    </tr>\n    <tr>\n      <th>13311</th>\n      <td>22241</td>\n      <td>12:22:13</td>\n      <td>114.183548</td>\n      <td>22.557375</td>\n      <td>1</td>\n      <td>73</td>\n    </tr>\n    <tr>\n      <th>13312</th>\n      <td>22241</td>\n      <td>12:18:13</td>\n      <td>114.226738</td>\n      <td>22.567507</td>\n      <td>1</td>\n      <td>74</td>\n    </tr>\n    <tr>\n      <th>13313</th>\n      <td>22241</td>\n      <td>11:32:43</td>\n      <td>114.307610</td>\n      <td>22.601313</td>\n      <td>0</td>\n      <td>0</td>\n    </tr>\n  </tbody>\n</table>\n<p>1200 rows × 6 columns</p>\n</div>"
     },
     "metadata": {},
     "execution_count": 9
    }
   ],
   "source": [
    "df_id=df.loc[df[\"taxi_id\"]==22241]\n",
    "\n",
    "df_id"
   ]
  },
  {
   "cell_type": "code",
   "execution_count": 10,
   "metadata": {},
   "outputs": [
    {
     "output_type": "execute_result",
     "data": {
      "text/plain": [
       "       taxi_id      time         lon        lat  is_passenger  speed\n",
       "12172    22241  00:21:41  113.813484  22.624582             0      0\n",
       "12727    22241  00:22:11  113.813492  22.624577             0      0\n",
       "12406    22241  00:22:41  113.813515  22.624975             0      9\n",
       "12505    22241  00:23:00  113.813515  22.624975             0      0\n",
       "12285    22241  00:23:11  113.813499  22.625027             0      0\n",
       "...        ...       ...         ...        ...           ...    ...\n",
       "12315    22241  23:34:00  114.061874  22.569920             1      0\n",
       "12662    22241  23:39:20  114.122032  22.561947             0      0\n",
       "12316    22241  23:44:43  114.061874  22.569920             1      0\n",
       "13245    22241  23:45:03  114.111748  22.545656             1      0\n",
       "13242    22241  23:50:46  114.091354  22.541298             1      0\n",
       "\n",
       "[1200 rows x 6 columns]"
      ],
      "text/html": "<div>\n<style scoped>\n    .dataframe tbody tr th:only-of-type {\n        vertical-align: middle;\n    }\n\n    .dataframe tbody tr th {\n        vertical-align: top;\n    }\n\n    .dataframe thead th {\n        text-align: right;\n    }\n</style>\n<table border=\"1\" class=\"dataframe\">\n  <thead>\n    <tr style=\"text-align: right;\">\n      <th></th>\n      <th>taxi_id</th>\n      <th>time</th>\n      <th>lon</th>\n      <th>lat</th>\n      <th>is_passenger</th>\n      <th>speed</th>\n    </tr>\n  </thead>\n  <tbody>\n    <tr>\n      <th>12172</th>\n      <td>22241</td>\n      <td>00:21:41</td>\n      <td>113.813484</td>\n      <td>22.624582</td>\n      <td>0</td>\n      <td>0</td>\n    </tr>\n    <tr>\n      <th>12727</th>\n      <td>22241</td>\n      <td>00:22:11</td>\n      <td>113.813492</td>\n      <td>22.624577</td>\n      <td>0</td>\n      <td>0</td>\n    </tr>\n    <tr>\n      <th>12406</th>\n      <td>22241</td>\n      <td>00:22:41</td>\n      <td>113.813515</td>\n      <td>22.624975</td>\n      <td>0</td>\n      <td>9</td>\n    </tr>\n    <tr>\n      <th>12505</th>\n      <td>22241</td>\n      <td>00:23:00</td>\n      <td>113.813515</td>\n      <td>22.624975</td>\n      <td>0</td>\n      <td>0</td>\n    </tr>\n    <tr>\n      <th>12285</th>\n      <td>22241</td>\n      <td>00:23:11</td>\n      <td>113.813499</td>\n      <td>22.625027</td>\n      <td>0</td>\n      <td>0</td>\n    </tr>\n    <tr>\n      <th>...</th>\n      <td>...</td>\n      <td>...</td>\n      <td>...</td>\n      <td>...</td>\n      <td>...</td>\n      <td>...</td>\n    </tr>\n    <tr>\n      <th>12315</th>\n      <td>22241</td>\n      <td>23:34:00</td>\n      <td>114.061874</td>\n      <td>22.569920</td>\n      <td>1</td>\n      <td>0</td>\n    </tr>\n    <tr>\n      <th>12662</th>\n      <td>22241</td>\n      <td>23:39:20</td>\n      <td>114.122032</td>\n      <td>22.561947</td>\n      <td>0</td>\n      <td>0</td>\n    </tr>\n    <tr>\n      <th>12316</th>\n      <td>22241</td>\n      <td>23:44:43</td>\n      <td>114.061874</td>\n      <td>22.569920</td>\n      <td>1</td>\n      <td>0</td>\n    </tr>\n    <tr>\n      <th>13245</th>\n      <td>22241</td>\n      <td>23:45:03</td>\n      <td>114.111748</td>\n      <td>22.545656</td>\n      <td>1</td>\n      <td>0</td>\n    </tr>\n    <tr>\n      <th>13242</th>\n      <td>22241</td>\n      <td>23:50:46</td>\n      <td>114.091354</td>\n      <td>22.541298</td>\n      <td>1</td>\n      <td>0</td>\n    </tr>\n  </tbody>\n</table>\n<p>1200 rows × 6 columns</p>\n</div>"
     },
     "metadata": {},
     "execution_count": 10
    }
   ],
   "source": [
    "df_id_sorted=df_id.sort_values(\"time\")\n",
    "\n",
    "df_id_sorted"
   ]
  },
  {
   "cell_type": "code",
   "execution_count": 11,
   "metadata": {},
   "outputs": [],
   "source": [
    "import math\n",
    "\n",
    "def LL2Dist(Lat1, Lng1, Lat2, Lng2):\n",
    "    \"\"\"\n",
    "    - 得到两个坐标点之间的距离，单位为 米\n",
    "    \"\"\"\n",
    "\n",
    "    ra = 6378137.0  # radius of equator: meter\n",
    "    rb = 6356752.3142451  # radius of polar: meter\n",
    "    flatten = (ra - rb) / ra  # Partial rate of the earth\n",
    "    if Lat1 == Lat2 and Lng1 == Lng2:\n",
    "        return 0\n",
    "    # change angle to radians\n",
    "    radLatA = math.radians(Lat1)\n",
    "    radLonA = math.radians(Lng1)\n",
    "    radLatB = math.radians(Lat2)\n",
    "    radLonB = math.radians(Lng2)\n",
    "\n",
    "    pA = math.atan(rb / ra * math.tan(radLatA))\n",
    "    pB = math.atan(rb / ra * math.tan(radLatB))\n",
    "    x = math.acos(math.sin(pA) * math.sin(pB) + math.cos(pA) * math.cos(pB) * math.cos(radLonA - radLonB))\n",
    "    c1 = (math.sin(x) - x) * (math.sin(pA) + math.sin(pB)) ** 2 / math.cos(x / 2) ** 2\n",
    "    c2 = (math.sin(x) + x) * (math.sin(pA) - math.sin(pB)) ** 2 / math.sin(x / 2) ** 2\n",
    "    dr = flatten / 8 * (c1 - c2)\n",
    "    distance = ra * (x + dr)  ##单位:米\n",
    "    return distance"
   ]
  },
  {
   "cell_type": "code",
   "execution_count": 12,
   "metadata": {},
   "outputs": [
    {
     "output_type": "execute_result",
     "data": {
      "text/plain": [
       "6249.773727960611"
      ]
     },
     "metadata": {},
     "execution_count": 12
    }
   ],
   "source": [
    "LL2Dist(22.569920, 114.061874, 22.561947, 114.122032)"
   ]
  }
 ]
}