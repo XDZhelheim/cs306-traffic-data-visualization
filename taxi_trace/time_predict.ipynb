{
 "metadata": {
  "language_info": {
   "codemirror_mode": {
    "name": "ipython",
    "version": 3
   },
   "file_extension": ".py",
   "mimetype": "text/x-python",
   "name": "python",
   "nbconvert_exporter": "python",
   "pygments_lexer": "ipython3",
   "version": "3.8.5"
  },
  "orig_nbformat": 2,
  "kernelspec": {
   "name": "python38564bite3061c24793a4a478b27330f97edd183",
   "display_name": "Python 3.8.5 64-bit"
  }
 },
 "nbformat": 4,
 "nbformat_minor": 2,
 "cells": [
  {
   "cell_type": "code",
   "execution_count": 38,
   "metadata": {},
   "outputs": [],
   "source": [
    "k=1000\n",
    "\n",
    "location=[113.910500, 22.487583]\n",
    "time=\"23:48:00\""
   ]
  },
  {
   "cell_type": "code",
   "execution_count": 39,
   "metadata": {},
   "outputs": [
    {
     "output_type": "execute_result",
     "data": {
      "text/plain": [
       "       taxi_id      time         lon        lat  is_passenger  speed\n",
       "0        22224  00:00:12  114.039169  22.565283             0     45\n",
       "1        22224  00:00:27  114.040001  22.563417             0     69\n",
       "2        22224  00:00:42  114.041298  22.561033             0     70\n",
       "3        22224  00:00:57  114.042366  22.559084             0     69\n",
       "4        22224  00:01:23  114.043114  22.556850             0     23\n",
       "...        ...       ...         ...        ...           ...    ...\n",
       "99995    22381  08:18:55  114.099167  22.538366             1     19\n",
       "99996    22381  08:19:25  114.095131  22.538151             1     67\n",
       "99997    22381  08:19:55  114.090164  22.537983             1     61\n",
       "99998    22381  08:20:25  114.084534  22.537416             1     65\n",
       "99999    22381  08:20:55  114.082100  22.537399             1     53\n",
       "\n",
       "[100000 rows x 6 columns]"
      ],
      "text/html": "<div>\n<style scoped>\n    .dataframe tbody tr th:only-of-type {\n        vertical-align: middle;\n    }\n\n    .dataframe tbody tr th {\n        vertical-align: top;\n    }\n\n    .dataframe thead th {\n        text-align: right;\n    }\n</style>\n<table border=\"1\" class=\"dataframe\">\n  <thead>\n    <tr style=\"text-align: right;\">\n      <th></th>\n      <th>taxi_id</th>\n      <th>time</th>\n      <th>lon</th>\n      <th>lat</th>\n      <th>is_passenger</th>\n      <th>speed</th>\n    </tr>\n  </thead>\n  <tbody>\n    <tr>\n      <th>0</th>\n      <td>22224</td>\n      <td>00:00:12</td>\n      <td>114.039169</td>\n      <td>22.565283</td>\n      <td>0</td>\n      <td>45</td>\n    </tr>\n    <tr>\n      <th>1</th>\n      <td>22224</td>\n      <td>00:00:27</td>\n      <td>114.040001</td>\n      <td>22.563417</td>\n      <td>0</td>\n      <td>69</td>\n    </tr>\n    <tr>\n      <th>2</th>\n      <td>22224</td>\n      <td>00:00:42</td>\n      <td>114.041298</td>\n      <td>22.561033</td>\n      <td>0</td>\n      <td>70</td>\n    </tr>\n    <tr>\n      <th>3</th>\n      <td>22224</td>\n      <td>00:00:57</td>\n      <td>114.042366</td>\n      <td>22.559084</td>\n      <td>0</td>\n      <td>69</td>\n    </tr>\n    <tr>\n      <th>4</th>\n      <td>22224</td>\n      <td>00:01:23</td>\n      <td>114.043114</td>\n      <td>22.556850</td>\n      <td>0</td>\n      <td>23</td>\n    </tr>\n    <tr>\n      <th>...</th>\n      <td>...</td>\n      <td>...</td>\n      <td>...</td>\n      <td>...</td>\n      <td>...</td>\n      <td>...</td>\n    </tr>\n    <tr>\n      <th>99995</th>\n      <td>22381</td>\n      <td>08:18:55</td>\n      <td>114.099167</td>\n      <td>22.538366</td>\n      <td>1</td>\n      <td>19</td>\n    </tr>\n    <tr>\n      <th>99996</th>\n      <td>22381</td>\n      <td>08:19:25</td>\n      <td>114.095131</td>\n      <td>22.538151</td>\n      <td>1</td>\n      <td>67</td>\n    </tr>\n    <tr>\n      <th>99997</th>\n      <td>22381</td>\n      <td>08:19:55</td>\n      <td>114.090164</td>\n      <td>22.537983</td>\n      <td>1</td>\n      <td>61</td>\n    </tr>\n    <tr>\n      <th>99998</th>\n      <td>22381</td>\n      <td>08:20:25</td>\n      <td>114.084534</td>\n      <td>22.537416</td>\n      <td>1</td>\n      <td>65</td>\n    </tr>\n    <tr>\n      <th>99999</th>\n      <td>22381</td>\n      <td>08:20:55</td>\n      <td>114.082100</td>\n      <td>22.537399</td>\n      <td>1</td>\n      <td>53</td>\n    </tr>\n  </tbody>\n</table>\n<p>100000 rows × 6 columns</p>\n</div>"
     },
     "metadata": {},
     "execution_count": 39
    }
   ],
   "source": [
    "import pandas as pd\n",
    "\n",
    "df=pd.read_csv(\"../sample_taxi_after_clean.csv\", nrows=100000)\n",
    "\n",
    "df"
   ]
  },
  {
   "cell_type": "code",
   "execution_count": 40,
   "metadata": {},
   "outputs": [
    {
     "output_type": "execute_result",
     "data": {
      "text/plain": [
       "       taxi_id      time         lon        lat  is_passenger  speed\n",
       "8728     22228  23:48:37  113.990982  22.530434             0      0\n",
       "8729     22228  23:48:51  113.991035  22.530434             0      7\n",
       "8730     22228  23:49:07  113.991570  22.530466             0      1\n",
       "8731     22228  23:49:21  113.991653  22.530416             0      1\n",
       "8732     22228  23:49:37  113.991699  22.530382             0      0\n",
       "...        ...       ...         ...        ...           ...    ...\n",
       "97217    22379  23:51:57  114.139633  22.577513             0     26\n",
       "97218    22379  23:52:27  114.138985  22.575466             0      0\n",
       "97219    22379  23:52:56  114.139008  22.575485             0      0\n",
       "97220    22379  23:53:26  114.138885  22.575132             0     29\n",
       "97221    22379  23:53:56  114.137794  22.572172             0     45\n",
       "\n",
       "[229 rows x 6 columns]"
      ],
      "text/html": "<div>\n<style scoped>\n    .dataframe tbody tr th:only-of-type {\n        vertical-align: middle;\n    }\n\n    .dataframe tbody tr th {\n        vertical-align: top;\n    }\n\n    .dataframe thead th {\n        text-align: right;\n    }\n</style>\n<table border=\"1\" class=\"dataframe\">\n  <thead>\n    <tr style=\"text-align: right;\">\n      <th></th>\n      <th>taxi_id</th>\n      <th>time</th>\n      <th>lon</th>\n      <th>lat</th>\n      <th>is_passenger</th>\n      <th>speed</th>\n    </tr>\n  </thead>\n  <tbody>\n    <tr>\n      <th>8728</th>\n      <td>22228</td>\n      <td>23:48:37</td>\n      <td>113.990982</td>\n      <td>22.530434</td>\n      <td>0</td>\n      <td>0</td>\n    </tr>\n    <tr>\n      <th>8729</th>\n      <td>22228</td>\n      <td>23:48:51</td>\n      <td>113.991035</td>\n      <td>22.530434</td>\n      <td>0</td>\n      <td>7</td>\n    </tr>\n    <tr>\n      <th>8730</th>\n      <td>22228</td>\n      <td>23:49:07</td>\n      <td>113.991570</td>\n      <td>22.530466</td>\n      <td>0</td>\n      <td>1</td>\n    </tr>\n    <tr>\n      <th>8731</th>\n      <td>22228</td>\n      <td>23:49:21</td>\n      <td>113.991653</td>\n      <td>22.530416</td>\n      <td>0</td>\n      <td>1</td>\n    </tr>\n    <tr>\n      <th>8732</th>\n      <td>22228</td>\n      <td>23:49:37</td>\n      <td>113.991699</td>\n      <td>22.530382</td>\n      <td>0</td>\n      <td>0</td>\n    </tr>\n    <tr>\n      <th>...</th>\n      <td>...</td>\n      <td>...</td>\n      <td>...</td>\n      <td>...</td>\n      <td>...</td>\n      <td>...</td>\n    </tr>\n    <tr>\n      <th>97217</th>\n      <td>22379</td>\n      <td>23:51:57</td>\n      <td>114.139633</td>\n      <td>22.577513</td>\n      <td>0</td>\n      <td>26</td>\n    </tr>\n    <tr>\n      <th>97218</th>\n      <td>22379</td>\n      <td>23:52:27</td>\n      <td>114.138985</td>\n      <td>22.575466</td>\n      <td>0</td>\n      <td>0</td>\n    </tr>\n    <tr>\n      <th>97219</th>\n      <td>22379</td>\n      <td>23:52:56</td>\n      <td>114.139008</td>\n      <td>22.575485</td>\n      <td>0</td>\n      <td>0</td>\n    </tr>\n    <tr>\n      <th>97220</th>\n      <td>22379</td>\n      <td>23:53:26</td>\n      <td>114.138885</td>\n      <td>22.575132</td>\n      <td>0</td>\n      <td>29</td>\n    </tr>\n    <tr>\n      <th>97221</th>\n      <td>22379</td>\n      <td>23:53:56</td>\n      <td>114.137794</td>\n      <td>22.572172</td>\n      <td>0</td>\n      <td>45</td>\n    </tr>\n  </tbody>\n</table>\n<p>229 rows × 6 columns</p>\n</div>"
     },
     "metadata": {},
     "execution_count": 40
    }
   ],
   "source": [
    "df_after=df.loc[(df[\"time\"]>time) & (df[\"is_passenger\"]==0)]\n",
    "\n",
    "df_after"
   ]
  },
  {
   "cell_type": "code",
   "execution_count": 41,
   "metadata": {},
   "outputs": [
    {
     "output_type": "stream",
     "name": "stderr",
     "text": [
      "<ipython-input-41-2f6d8fb26ac0>:1: SettingWithCopyWarning: \nA value is trying to be set on a copy of a slice from a DataFrame.\nTry using .loc[row_indexer,col_indexer] = value instead\n\nSee the caveats in the documentation: https://pandas.pydata.org/pandas-docs/stable/user_guide/indexing.html#returning-a-view-versus-a-copy\n  df_after[\"distance\"]=abs(df_after[\"lon\"]-location[0])+abs(df_after[\"lat\"]-location[1])\n"
     ]
    },
    {
     "output_type": "execute_result",
     "data": {
      "text/plain": [
       "       taxi_id      time         lon        lat  is_passenger  speed  distance\n",
       "34159    22276  23:48:02  113.903168  22.515966             0     35  0.035715\n",
       "34161    22276  23:48:32  113.903450  22.516317             0      0  0.035784\n",
       "34164    22276  23:49:11  113.903870  22.516750             0     41  0.035797\n",
       "34163    22276  23:48:56  113.903435  22.516317             0      0  0.035799\n",
       "34162    22276  23:48:41  113.903435  22.516317             0      0  0.035799\n",
       "...        ...       ...         ...        ...           ...    ...       ...\n",
       "81475    22350  23:49:36  114.284599  22.727100             0      7  0.613616\n",
       "81476    22350  23:50:06  114.287903  22.725901             0     61  0.615721\n",
       "81477    22350  23:50:36  114.292801  22.723700             0     70  0.618418\n",
       "81478    22350  23:51:06  114.297798  22.721500             0     72  0.621215\n",
       "81479    22350  23:52:36  114.306602  22.721901             0     35  0.630420\n",
       "\n",
       "[229 rows x 7 columns]"
      ],
      "text/html": "<div>\n<style scoped>\n    .dataframe tbody tr th:only-of-type {\n        vertical-align: middle;\n    }\n\n    .dataframe tbody tr th {\n        vertical-align: top;\n    }\n\n    .dataframe thead th {\n        text-align: right;\n    }\n</style>\n<table border=\"1\" class=\"dataframe\">\n  <thead>\n    <tr style=\"text-align: right;\">\n      <th></th>\n      <th>taxi_id</th>\n      <th>time</th>\n      <th>lon</th>\n      <th>lat</th>\n      <th>is_passenger</th>\n      <th>speed</th>\n      <th>distance</th>\n    </tr>\n  </thead>\n  <tbody>\n    <tr>\n      <th>34159</th>\n      <td>22276</td>\n      <td>23:48:02</td>\n      <td>113.903168</td>\n      <td>22.515966</td>\n      <td>0</td>\n      <td>35</td>\n      <td>0.035715</td>\n    </tr>\n    <tr>\n      <th>34161</th>\n      <td>22276</td>\n      <td>23:48:32</td>\n      <td>113.903450</td>\n      <td>22.516317</td>\n      <td>0</td>\n      <td>0</td>\n      <td>0.035784</td>\n    </tr>\n    <tr>\n      <th>34164</th>\n      <td>22276</td>\n      <td>23:49:11</td>\n      <td>113.903870</td>\n      <td>22.516750</td>\n      <td>0</td>\n      <td>41</td>\n      <td>0.035797</td>\n    </tr>\n    <tr>\n      <th>34163</th>\n      <td>22276</td>\n      <td>23:48:56</td>\n      <td>113.903435</td>\n      <td>22.516317</td>\n      <td>0</td>\n      <td>0</td>\n      <td>0.035799</td>\n    </tr>\n    <tr>\n      <th>34162</th>\n      <td>22276</td>\n      <td>23:48:41</td>\n      <td>113.903435</td>\n      <td>22.516317</td>\n      <td>0</td>\n      <td>0</td>\n      <td>0.035799</td>\n    </tr>\n    <tr>\n      <th>...</th>\n      <td>...</td>\n      <td>...</td>\n      <td>...</td>\n      <td>...</td>\n      <td>...</td>\n      <td>...</td>\n      <td>...</td>\n    </tr>\n    <tr>\n      <th>81475</th>\n      <td>22350</td>\n      <td>23:49:36</td>\n      <td>114.284599</td>\n      <td>22.727100</td>\n      <td>0</td>\n      <td>7</td>\n      <td>0.613616</td>\n    </tr>\n    <tr>\n      <th>81476</th>\n      <td>22350</td>\n      <td>23:50:06</td>\n      <td>114.287903</td>\n      <td>22.725901</td>\n      <td>0</td>\n      <td>61</td>\n      <td>0.615721</td>\n    </tr>\n    <tr>\n      <th>81477</th>\n      <td>22350</td>\n      <td>23:50:36</td>\n      <td>114.292801</td>\n      <td>22.723700</td>\n      <td>0</td>\n      <td>70</td>\n      <td>0.618418</td>\n    </tr>\n    <tr>\n      <th>81478</th>\n      <td>22350</td>\n      <td>23:51:06</td>\n      <td>114.297798</td>\n      <td>22.721500</td>\n      <td>0</td>\n      <td>72</td>\n      <td>0.621215</td>\n    </tr>\n    <tr>\n      <th>81479</th>\n      <td>22350</td>\n      <td>23:52:36</td>\n      <td>114.306602</td>\n      <td>22.721901</td>\n      <td>0</td>\n      <td>35</td>\n      <td>0.630420</td>\n    </tr>\n  </tbody>\n</table>\n<p>229 rows × 7 columns</p>\n</div>"
     },
     "metadata": {},
     "execution_count": 41
    }
   ],
   "source": [
    "df_after[\"distance\"]=abs(df_after[\"lon\"]-location[0])+abs(df_after[\"lat\"]-location[1])\n",
    "\n",
    "df_after=df_after.sort_values(\"distance\")\n",
    "\n",
    "df_after"
   ]
  },
  {
   "cell_type": "code",
   "execution_count": 42,
   "metadata": {},
   "outputs": [],
   "source": [
    "def parse_time(t: str):\n",
    "    \"\"\"Convert timestamp to seconds\n",
    "\n",
    "    Args:\n",
    "        t (str): timestamp in format HH:mm:ss\n",
    "\n",
    "    Returns:\n",
    "        seconds (int): seconds from 00:00:00\n",
    "    \"\"\"\n",
    "    h_m_s = t.split(\":\")\n",
    "    return int(h_m_s[0]) * 60 * 60 + int(h_m_s[1]) * 60 + int(h_m_s[2])"
   ]
  },
  {
   "cell_type": "code",
   "execution_count": 45,
   "metadata": {},
   "outputs": [
    {
     "output_type": "execute_result",
     "data": {
      "text/plain": [
       "       taxi_id   time         lon        lat  is_passenger  speed  distance\n",
       "34159    22276  85682  113.903168  22.515966             0     35  0.035715\n",
       "34161    22276  85712  113.903450  22.516317             0      0  0.035784\n",
       "34164    22276  85751  113.903870  22.516750             0     41  0.035797\n",
       "34163    22276  85736  113.903435  22.516317             0      0  0.035799\n",
       "34162    22276  85721  113.903435  22.516317             0      0  0.035799\n",
       "34165    22276  85766  113.905167  22.518066             0     60  0.035816\n",
       "34160    22276  85697  113.903450  22.516367             0      0  0.035834\n",
       "34167    22276  85796  113.908066  22.521049             0     59  0.035900\n",
       "34166    22276  85781  113.906601  22.519699             0     51  0.036015\n",
       "34170    22276  85841  113.908752  22.521999             0      2  0.036164\n",
       "34169    22276  85826  113.908699  22.522034             0      1  0.036252\n",
       "34168    22276  85811  113.908653  22.522118             0     12  0.036382\n",
       "34171    22276  85856  113.909248  22.523184             0     57  0.036853\n",
       "34173    22276  85886  113.910416  22.525833             0     34  0.038334\n",
       "34172    22276  85871  113.909714  22.525217             0     36  0.038420\n",
       "34174    22276  85894  113.911369  22.525900             0     49  0.039186\n",
       "34175    22276  85909  113.913254  22.526367             0     36  0.041538\n",
       "34179    22276  85969  113.914200  22.526501             0      0  0.042618\n",
       "34178    22276  85954  113.914215  22.526501             0      0  0.042633\n",
       "34176    22276  85924  113.914169  22.526550             0     10  0.042636\n",
       "34177    22276  85939  113.914230  22.526501             0      0  0.042648\n",
       "34180    22276  85984  113.914352  22.526533             0     16  0.042802\n",
       "34181    22276  85999  113.915451  22.527000             0     45  0.044368\n",
       "34182    22276  86007  113.916115  22.527300             0     36  0.045332\n",
       "34183    22276  86022  113.917648  22.527117             0     45  0.046682\n",
       "34184    22276  86037  113.918816  22.526783             0     15  0.047516\n",
       "38999    22291  85718  113.894302  22.563700             0      0  0.092315\n",
       "39000    22291  85776  113.894302  22.563700             0      0  0.092315\n",
       "39001    22291  85835  113.894302  22.563700             0      0  0.092315\n",
       "39004    22291  86012  113.894302  22.563801             0      0  0.092416\n",
       "39002    22291  85894  113.893898  22.563801             0      0  0.092820\n",
       "39003    22291  85953  113.893898  22.563801             0      0  0.092820\n",
       "40926    22292  85971  113.891502  22.567400             0     13  0.098815\n",
       "40927    22292  86001  113.890503  22.566500             0      3  0.098914\n",
       "21969    22251  86028  113.913498  22.584400             0     31  0.099815"
      ],
      "text/html": "<div>\n<style scoped>\n    .dataframe tbody tr th:only-of-type {\n        vertical-align: middle;\n    }\n\n    .dataframe tbody tr th {\n        vertical-align: top;\n    }\n\n    .dataframe thead th {\n        text-align: right;\n    }\n</style>\n<table border=\"1\" class=\"dataframe\">\n  <thead>\n    <tr style=\"text-align: right;\">\n      <th></th>\n      <th>taxi_id</th>\n      <th>time</th>\n      <th>lon</th>\n      <th>lat</th>\n      <th>is_passenger</th>\n      <th>speed</th>\n      <th>distance</th>\n    </tr>\n  </thead>\n  <tbody>\n    <tr>\n      <th>34159</th>\n      <td>22276</td>\n      <td>85682</td>\n      <td>113.903168</td>\n      <td>22.515966</td>\n      <td>0</td>\n      <td>35</td>\n      <td>0.035715</td>\n    </tr>\n    <tr>\n      <th>34161</th>\n      <td>22276</td>\n      <td>85712</td>\n      <td>113.903450</td>\n      <td>22.516317</td>\n      <td>0</td>\n      <td>0</td>\n      <td>0.035784</td>\n    </tr>\n    <tr>\n      <th>34164</th>\n      <td>22276</td>\n      <td>85751</td>\n      <td>113.903870</td>\n      <td>22.516750</td>\n      <td>0</td>\n      <td>41</td>\n      <td>0.035797</td>\n    </tr>\n    <tr>\n      <th>34163</th>\n      <td>22276</td>\n      <td>85736</td>\n      <td>113.903435</td>\n      <td>22.516317</td>\n      <td>0</td>\n      <td>0</td>\n      <td>0.035799</td>\n    </tr>\n    <tr>\n      <th>34162</th>\n      <td>22276</td>\n      <td>85721</td>\n      <td>113.903435</td>\n      <td>22.516317</td>\n      <td>0</td>\n      <td>0</td>\n      <td>0.035799</td>\n    </tr>\n    <tr>\n      <th>34165</th>\n      <td>22276</td>\n      <td>85766</td>\n      <td>113.905167</td>\n      <td>22.518066</td>\n      <td>0</td>\n      <td>60</td>\n      <td>0.035816</td>\n    </tr>\n    <tr>\n      <th>34160</th>\n      <td>22276</td>\n      <td>85697</td>\n      <td>113.903450</td>\n      <td>22.516367</td>\n      <td>0</td>\n      <td>0</td>\n      <td>0.035834</td>\n    </tr>\n    <tr>\n      <th>34167</th>\n      <td>22276</td>\n      <td>85796</td>\n      <td>113.908066</td>\n      <td>22.521049</td>\n      <td>0</td>\n      <td>59</td>\n      <td>0.035900</td>\n    </tr>\n    <tr>\n      <th>34166</th>\n      <td>22276</td>\n      <td>85781</td>\n      <td>113.906601</td>\n      <td>22.519699</td>\n      <td>0</td>\n      <td>51</td>\n      <td>0.036015</td>\n    </tr>\n    <tr>\n      <th>34170</th>\n      <td>22276</td>\n      <td>85841</td>\n      <td>113.908752</td>\n      <td>22.521999</td>\n      <td>0</td>\n      <td>2</td>\n      <td>0.036164</td>\n    </tr>\n    <tr>\n      <th>34169</th>\n      <td>22276</td>\n      <td>85826</td>\n      <td>113.908699</td>\n      <td>22.522034</td>\n      <td>0</td>\n      <td>1</td>\n      <td>0.036252</td>\n    </tr>\n    <tr>\n      <th>34168</th>\n      <td>22276</td>\n      <td>85811</td>\n      <td>113.908653</td>\n      <td>22.522118</td>\n      <td>0</td>\n      <td>12</td>\n      <td>0.036382</td>\n    </tr>\n    <tr>\n      <th>34171</th>\n      <td>22276</td>\n      <td>85856</td>\n      <td>113.909248</td>\n      <td>22.523184</td>\n      <td>0</td>\n      <td>57</td>\n      <td>0.036853</td>\n    </tr>\n    <tr>\n      <th>34173</th>\n      <td>22276</td>\n      <td>85886</td>\n      <td>113.910416</td>\n      <td>22.525833</td>\n      <td>0</td>\n      <td>34</td>\n      <td>0.038334</td>\n    </tr>\n    <tr>\n      <th>34172</th>\n      <td>22276</td>\n      <td>85871</td>\n      <td>113.909714</td>\n      <td>22.525217</td>\n      <td>0</td>\n      <td>36</td>\n      <td>0.038420</td>\n    </tr>\n    <tr>\n      <th>34174</th>\n      <td>22276</td>\n      <td>85894</td>\n      <td>113.911369</td>\n      <td>22.525900</td>\n      <td>0</td>\n      <td>49</td>\n      <td>0.039186</td>\n    </tr>\n    <tr>\n      <th>34175</th>\n      <td>22276</td>\n      <td>85909</td>\n      <td>113.913254</td>\n      <td>22.526367</td>\n      <td>0</td>\n      <td>36</td>\n      <td>0.041538</td>\n    </tr>\n    <tr>\n      <th>34179</th>\n      <td>22276</td>\n      <td>85969</td>\n      <td>113.914200</td>\n      <td>22.526501</td>\n      <td>0</td>\n      <td>0</td>\n      <td>0.042618</td>\n    </tr>\n    <tr>\n      <th>34178</th>\n      <td>22276</td>\n      <td>85954</td>\n      <td>113.914215</td>\n      <td>22.526501</td>\n      <td>0</td>\n      <td>0</td>\n      <td>0.042633</td>\n    </tr>\n    <tr>\n      <th>34176</th>\n      <td>22276</td>\n      <td>85924</td>\n      <td>113.914169</td>\n      <td>22.526550</td>\n      <td>0</td>\n      <td>10</td>\n      <td>0.042636</td>\n    </tr>\n    <tr>\n      <th>34177</th>\n      <td>22276</td>\n      <td>85939</td>\n      <td>113.914230</td>\n      <td>22.526501</td>\n      <td>0</td>\n      <td>0</td>\n      <td>0.042648</td>\n    </tr>\n    <tr>\n      <th>34180</th>\n      <td>22276</td>\n      <td>85984</td>\n      <td>113.914352</td>\n      <td>22.526533</td>\n      <td>0</td>\n      <td>16</td>\n      <td>0.042802</td>\n    </tr>\n    <tr>\n      <th>34181</th>\n      <td>22276</td>\n      <td>85999</td>\n      <td>113.915451</td>\n      <td>22.527000</td>\n      <td>0</td>\n      <td>45</td>\n      <td>0.044368</td>\n    </tr>\n    <tr>\n      <th>34182</th>\n      <td>22276</td>\n      <td>86007</td>\n      <td>113.916115</td>\n      <td>22.527300</td>\n      <td>0</td>\n      <td>36</td>\n      <td>0.045332</td>\n    </tr>\n    <tr>\n      <th>34183</th>\n      <td>22276</td>\n      <td>86022</td>\n      <td>113.917648</td>\n      <td>22.527117</td>\n      <td>0</td>\n      <td>45</td>\n      <td>0.046682</td>\n    </tr>\n    <tr>\n      <th>34184</th>\n      <td>22276</td>\n      <td>86037</td>\n      <td>113.918816</td>\n      <td>22.526783</td>\n      <td>0</td>\n      <td>15</td>\n      <td>0.047516</td>\n    </tr>\n    <tr>\n      <th>38999</th>\n      <td>22291</td>\n      <td>85718</td>\n      <td>113.894302</td>\n      <td>22.563700</td>\n      <td>0</td>\n      <td>0</td>\n      <td>0.092315</td>\n    </tr>\n    <tr>\n      <th>39000</th>\n      <td>22291</td>\n      <td>85776</td>\n      <td>113.894302</td>\n      <td>22.563700</td>\n      <td>0</td>\n      <td>0</td>\n      <td>0.092315</td>\n    </tr>\n    <tr>\n      <th>39001</th>\n      <td>22291</td>\n      <td>85835</td>\n      <td>113.894302</td>\n      <td>22.563700</td>\n      <td>0</td>\n      <td>0</td>\n      <td>0.092315</td>\n    </tr>\n    <tr>\n      <th>39004</th>\n      <td>22291</td>\n      <td>86012</td>\n      <td>113.894302</td>\n      <td>22.563801</td>\n      <td>0</td>\n      <td>0</td>\n      <td>0.092416</td>\n    </tr>\n    <tr>\n      <th>39002</th>\n      <td>22291</td>\n      <td>85894</td>\n      <td>113.893898</td>\n      <td>22.563801</td>\n      <td>0</td>\n      <td>0</td>\n      <td>0.092820</td>\n    </tr>\n    <tr>\n      <th>39003</th>\n      <td>22291</td>\n      <td>85953</td>\n      <td>113.893898</td>\n      <td>22.563801</td>\n      <td>0</td>\n      <td>0</td>\n      <td>0.092820</td>\n    </tr>\n    <tr>\n      <th>40926</th>\n      <td>22292</td>\n      <td>85971</td>\n      <td>113.891502</td>\n      <td>22.567400</td>\n      <td>0</td>\n      <td>13</td>\n      <td>0.098815</td>\n    </tr>\n    <tr>\n      <th>40927</th>\n      <td>22292</td>\n      <td>86001</td>\n      <td>113.890503</td>\n      <td>22.566500</td>\n      <td>0</td>\n      <td>3</td>\n      <td>0.098914</td>\n    </tr>\n    <tr>\n      <th>21969</th>\n      <td>22251</td>\n      <td>86028</td>\n      <td>113.913498</td>\n      <td>22.584400</td>\n      <td>0</td>\n      <td>31</td>\n      <td>0.099815</td>\n    </tr>\n  </tbody>\n</table>\n</div>"
     },
     "metadata": {},
     "execution_count": 45
    }
   ],
   "source": [
    "df_k=df_after[0:k].loc[df_after[\"distance\"]<0.1]\n",
    "df_k[\"time\"]=df_k[\"time\"].apply(parse_time)\n",
    "\n",
    "df_k"
   ]
  },
  {
   "cell_type": "code",
   "execution_count": 46,
   "metadata": {},
   "outputs": [
    {
     "output_type": "stream",
     "name": "stdout",
     "text": [
      "Wait time = 193.11 sec\n"
     ]
    }
   ],
   "source": [
    "estimate_wait_time=df_k[\"time\"].sum()/len(df_k)-parse_time(time)\n",
    "\n",
    "print(\"Wait time = {:.2f} sec\".format(estimate_wait_time))"
   ]
  }
 ]
}