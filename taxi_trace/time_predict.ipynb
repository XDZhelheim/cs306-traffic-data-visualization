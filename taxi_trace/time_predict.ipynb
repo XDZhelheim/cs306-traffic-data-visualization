{
 "metadata": {
  "language_info": {
   "codemirror_mode": {
    "name": "ipython",
    "version": 3
   },
   "file_extension": ".py",
   "mimetype": "text/x-python",
   "name": "python",
   "nbconvert_exporter": "python",
   "pygments_lexer": "ipython3",
   "version": "3.8.5"
  },
  "orig_nbformat": 2,
  "kernelspec": {
   "name": "python38564bite3061c24793a4a478b27330f97edd183",
   "display_name": "Python 3.8.5 64-bit"
  }
 },
 "nbformat": 4,
 "nbformat_minor": 2,
 "cells": [
  {
   "cell_type": "code",
   "execution_count": 4,
   "metadata": {},
   "outputs": [],
   "source": [
    "k=1000\n",
    "\n",
    "location=[113.910500, 22.487583]\n",
    "time=\"10:52:00\""
   ]
  },
  {
   "cell_type": "code",
   "execution_count": 5,
   "metadata": {},
   "outputs": [
    {
     "output_type": "execute_result",
     "data": {
      "text/plain": [
       "       taxi_id      time         lon        lat  is_passenger  speed\n",
       "0        22224  00:00:12  114.039169  22.565283             0     45\n",
       "1        22224  00:00:27  114.040001  22.563417             0     69\n",
       "2        22224  00:00:42  114.041298  22.561033             0     70\n",
       "3        22224  00:00:57  114.042366  22.559084             0     69\n",
       "4        22224  00:01:23  114.043114  22.556850             0     23\n",
       "...        ...       ...         ...        ...           ...    ...\n",
       "99995    22381  08:18:55  114.099167  22.538366             1     19\n",
       "99996    22381  08:19:25  114.095131  22.538151             1     67\n",
       "99997    22381  08:19:55  114.090164  22.537983             1     61\n",
       "99998    22381  08:20:25  114.084534  22.537416             1     65\n",
       "99999    22381  08:20:55  114.082100  22.537399             1     53\n",
       "\n",
       "[100000 rows x 6 columns]"
      ],
      "text/html": "<div>\n<style scoped>\n    .dataframe tbody tr th:only-of-type {\n        vertical-align: middle;\n    }\n\n    .dataframe tbody tr th {\n        vertical-align: top;\n    }\n\n    .dataframe thead th {\n        text-align: right;\n    }\n</style>\n<table border=\"1\" class=\"dataframe\">\n  <thead>\n    <tr style=\"text-align: right;\">\n      <th></th>\n      <th>taxi_id</th>\n      <th>time</th>\n      <th>lon</th>\n      <th>lat</th>\n      <th>is_passenger</th>\n      <th>speed</th>\n    </tr>\n  </thead>\n  <tbody>\n    <tr>\n      <th>0</th>\n      <td>22224</td>\n      <td>00:00:12</td>\n      <td>114.039169</td>\n      <td>22.565283</td>\n      <td>0</td>\n      <td>45</td>\n    </tr>\n    <tr>\n      <th>1</th>\n      <td>22224</td>\n      <td>00:00:27</td>\n      <td>114.040001</td>\n      <td>22.563417</td>\n      <td>0</td>\n      <td>69</td>\n    </tr>\n    <tr>\n      <th>2</th>\n      <td>22224</td>\n      <td>00:00:42</td>\n      <td>114.041298</td>\n      <td>22.561033</td>\n      <td>0</td>\n      <td>70</td>\n    </tr>\n    <tr>\n      <th>3</th>\n      <td>22224</td>\n      <td>00:00:57</td>\n      <td>114.042366</td>\n      <td>22.559084</td>\n      <td>0</td>\n      <td>69</td>\n    </tr>\n    <tr>\n      <th>4</th>\n      <td>22224</td>\n      <td>00:01:23</td>\n      <td>114.043114</td>\n      <td>22.556850</td>\n      <td>0</td>\n      <td>23</td>\n    </tr>\n    <tr>\n      <th>...</th>\n      <td>...</td>\n      <td>...</td>\n      <td>...</td>\n      <td>...</td>\n      <td>...</td>\n      <td>...</td>\n    </tr>\n    <tr>\n      <th>99995</th>\n      <td>22381</td>\n      <td>08:18:55</td>\n      <td>114.099167</td>\n      <td>22.538366</td>\n      <td>1</td>\n      <td>19</td>\n    </tr>\n    <tr>\n      <th>99996</th>\n      <td>22381</td>\n      <td>08:19:25</td>\n      <td>114.095131</td>\n      <td>22.538151</td>\n      <td>1</td>\n      <td>67</td>\n    </tr>\n    <tr>\n      <th>99997</th>\n      <td>22381</td>\n      <td>08:19:55</td>\n      <td>114.090164</td>\n      <td>22.537983</td>\n      <td>1</td>\n      <td>61</td>\n    </tr>\n    <tr>\n      <th>99998</th>\n      <td>22381</td>\n      <td>08:20:25</td>\n      <td>114.084534</td>\n      <td>22.537416</td>\n      <td>1</td>\n      <td>65</td>\n    </tr>\n    <tr>\n      <th>99999</th>\n      <td>22381</td>\n      <td>08:20:55</td>\n      <td>114.082100</td>\n      <td>22.537399</td>\n      <td>1</td>\n      <td>53</td>\n    </tr>\n  </tbody>\n</table>\n<p>100000 rows × 6 columns</p>\n</div>"
     },
     "metadata": {},
     "execution_count": 5
    }
   ],
   "source": [
    "import pandas as pd\n",
    "\n",
    "df=pd.read_csv(\"../sample_taxi_after_clean.csv\", nrows=100000)\n",
    "\n",
    "df"
   ]
  },
  {
   "cell_type": "code",
   "execution_count": 6,
   "metadata": {},
   "outputs": [
    {
     "output_type": "execute_result",
     "data": {
      "text/plain": [
       "       taxi_id      time         lon        lat  is_passenger  speed\n",
       "834      22224  10:56:47  114.045097  22.525700             0      4\n",
       "835      22224  10:57:02  114.045364  22.525600             0      4\n",
       "836      22224  10:57:17  114.045349  22.525633             0      2\n",
       "837      22224  10:57:32  114.045486  22.525700             0     18\n",
       "882      22224  11:10:50  114.041870  22.512966             0      0\n",
       "...        ...       ...         ...        ...           ...    ...\n",
       "98373    22380  23:19:39  114.034698  22.616400             0      3\n",
       "98374    22380  23:20:09  114.035698  22.616699             0     25\n",
       "98375    22380  23:20:39  114.037598  22.616301             0     37\n",
       "98376    22380  23:21:09  114.038498  22.614100             0     20\n",
       "98377    22380  23:21:39  114.037201  22.612801             0      9\n",
       "\n",
       "[24680 rows x 6 columns]"
      ],
      "text/html": "<div>\n<style scoped>\n    .dataframe tbody tr th:only-of-type {\n        vertical-align: middle;\n    }\n\n    .dataframe tbody tr th {\n        vertical-align: top;\n    }\n\n    .dataframe thead th {\n        text-align: right;\n    }\n</style>\n<table border=\"1\" class=\"dataframe\">\n  <thead>\n    <tr style=\"text-align: right;\">\n      <th></th>\n      <th>taxi_id</th>\n      <th>time</th>\n      <th>lon</th>\n      <th>lat</th>\n      <th>is_passenger</th>\n      <th>speed</th>\n    </tr>\n  </thead>\n  <tbody>\n    <tr>\n      <th>834</th>\n      <td>22224</td>\n      <td>10:56:47</td>\n      <td>114.045097</td>\n      <td>22.525700</td>\n      <td>0</td>\n      <td>4</td>\n    </tr>\n    <tr>\n      <th>835</th>\n      <td>22224</td>\n      <td>10:57:02</td>\n      <td>114.045364</td>\n      <td>22.525600</td>\n      <td>0</td>\n      <td>4</td>\n    </tr>\n    <tr>\n      <th>836</th>\n      <td>22224</td>\n      <td>10:57:17</td>\n      <td>114.045349</td>\n      <td>22.525633</td>\n      <td>0</td>\n      <td>2</td>\n    </tr>\n    <tr>\n      <th>837</th>\n      <td>22224</td>\n      <td>10:57:32</td>\n      <td>114.045486</td>\n      <td>22.525700</td>\n      <td>0</td>\n      <td>18</td>\n    </tr>\n    <tr>\n      <th>882</th>\n      <td>22224</td>\n      <td>11:10:50</td>\n      <td>114.041870</td>\n      <td>22.512966</td>\n      <td>0</td>\n      <td>0</td>\n    </tr>\n    <tr>\n      <th>...</th>\n      <td>...</td>\n      <td>...</td>\n      <td>...</td>\n      <td>...</td>\n      <td>...</td>\n      <td>...</td>\n    </tr>\n    <tr>\n      <th>98373</th>\n      <td>22380</td>\n      <td>23:19:39</td>\n      <td>114.034698</td>\n      <td>22.616400</td>\n      <td>0</td>\n      <td>3</td>\n    </tr>\n    <tr>\n      <th>98374</th>\n      <td>22380</td>\n      <td>23:20:09</td>\n      <td>114.035698</td>\n      <td>22.616699</td>\n      <td>0</td>\n      <td>25</td>\n    </tr>\n    <tr>\n      <th>98375</th>\n      <td>22380</td>\n      <td>23:20:39</td>\n      <td>114.037598</td>\n      <td>22.616301</td>\n      <td>0</td>\n      <td>37</td>\n    </tr>\n    <tr>\n      <th>98376</th>\n      <td>22380</td>\n      <td>23:21:09</td>\n      <td>114.038498</td>\n      <td>22.614100</td>\n      <td>0</td>\n      <td>20</td>\n    </tr>\n    <tr>\n      <th>98377</th>\n      <td>22380</td>\n      <td>23:21:39</td>\n      <td>114.037201</td>\n      <td>22.612801</td>\n      <td>0</td>\n      <td>9</td>\n    </tr>\n  </tbody>\n</table>\n<p>24680 rows × 6 columns</p>\n</div>"
     },
     "metadata": {},
     "execution_count": 6
    }
   ],
   "source": [
    "df_after=df.loc[(df[\"time\"]>time) & (df[\"is_passenger\"]==0)]\n",
    "\n",
    "df_after"
   ]
  },
  {
   "cell_type": "code",
   "execution_count": 7,
   "metadata": {},
   "outputs": [
    {
     "output_type": "stream",
     "name": "stderr",
     "text": [
      "<ipython-input-7-2f6d8fb26ac0>:1: SettingWithCopyWarning: \nA value is trying to be set on a copy of a slice from a DataFrame.\nTry using .loc[row_indexer,col_indexer] = value instead\n\nSee the caveats in the documentation: https://pandas.pydata.org/pandas-docs/stable/user_guide/indexing.html#returning-a-view-versus-a-copy\n  df_after[\"distance\"]=abs(df_after[\"lon\"]-location[0])+abs(df_after[\"lat\"]-location[1])\n"
     ]
    },
    {
     "output_type": "execute_result",
     "data": {
      "text/plain": [
       "       taxi_id      time         lon        lat  is_passenger  speed  distance\n",
       "85223    22352  19:31:55  113.910271  22.487417             0     14  0.000395\n",
       "85139    22352  19:11:03  113.910217  22.487383             0      0  0.000483\n",
       "85138    22352  19:11:01  113.910217  22.487383             0      0  0.000483\n",
       "85222    22352  19:31:40  113.910866  22.487749             0     43  0.000532\n",
       "85226    22352  19:32:55  113.910149  22.487383             0      0  0.000551\n",
       "...        ...       ...         ...        ...           ...    ...       ...\n",
       "92953    22369  16:47:38  114.396553  22.752817             0      2  0.751287\n",
       "92951    22369  16:47:25  114.396553  22.752832             0      0  0.751302\n",
       "92950    22369  16:47:24  114.396553  22.752832             0      0  0.751302\n",
       "92949    22369  16:47:23  114.396553  22.752832             0      0  0.751302\n",
       "92952    22369  16:47:26  114.396553  22.752832             0      0  0.751302\n",
       "\n",
       "[24680 rows x 7 columns]"
      ],
      "text/html": "<div>\n<style scoped>\n    .dataframe tbody tr th:only-of-type {\n        vertical-align: middle;\n    }\n\n    .dataframe tbody tr th {\n        vertical-align: top;\n    }\n\n    .dataframe thead th {\n        text-align: right;\n    }\n</style>\n<table border=\"1\" class=\"dataframe\">\n  <thead>\n    <tr style=\"text-align: right;\">\n      <th></th>\n      <th>taxi_id</th>\n      <th>time</th>\n      <th>lon</th>\n      <th>lat</th>\n      <th>is_passenger</th>\n      <th>speed</th>\n      <th>distance</th>\n    </tr>\n  </thead>\n  <tbody>\n    <tr>\n      <th>85223</th>\n      <td>22352</td>\n      <td>19:31:55</td>\n      <td>113.910271</td>\n      <td>22.487417</td>\n      <td>0</td>\n      <td>14</td>\n      <td>0.000395</td>\n    </tr>\n    <tr>\n      <th>85139</th>\n      <td>22352</td>\n      <td>19:11:03</td>\n      <td>113.910217</td>\n      <td>22.487383</td>\n      <td>0</td>\n      <td>0</td>\n      <td>0.000483</td>\n    </tr>\n    <tr>\n      <th>85138</th>\n      <td>22352</td>\n      <td>19:11:01</td>\n      <td>113.910217</td>\n      <td>22.487383</td>\n      <td>0</td>\n      <td>0</td>\n      <td>0.000483</td>\n    </tr>\n    <tr>\n      <th>85222</th>\n      <td>22352</td>\n      <td>19:31:40</td>\n      <td>113.910866</td>\n      <td>22.487749</td>\n      <td>0</td>\n      <td>43</td>\n      <td>0.000532</td>\n    </tr>\n    <tr>\n      <th>85226</th>\n      <td>22352</td>\n      <td>19:32:55</td>\n      <td>113.910149</td>\n      <td>22.487383</td>\n      <td>0</td>\n      <td>0</td>\n      <td>0.000551</td>\n    </tr>\n    <tr>\n      <th>...</th>\n      <td>...</td>\n      <td>...</td>\n      <td>...</td>\n      <td>...</td>\n      <td>...</td>\n      <td>...</td>\n      <td>...</td>\n    </tr>\n    <tr>\n      <th>92953</th>\n      <td>22369</td>\n      <td>16:47:38</td>\n      <td>114.396553</td>\n      <td>22.752817</td>\n      <td>0</td>\n      <td>2</td>\n      <td>0.751287</td>\n    </tr>\n    <tr>\n      <th>92951</th>\n      <td>22369</td>\n      <td>16:47:25</td>\n      <td>114.396553</td>\n      <td>22.752832</td>\n      <td>0</td>\n      <td>0</td>\n      <td>0.751302</td>\n    </tr>\n    <tr>\n      <th>92950</th>\n      <td>22369</td>\n      <td>16:47:24</td>\n      <td>114.396553</td>\n      <td>22.752832</td>\n      <td>0</td>\n      <td>0</td>\n      <td>0.751302</td>\n    </tr>\n    <tr>\n      <th>92949</th>\n      <td>22369</td>\n      <td>16:47:23</td>\n      <td>114.396553</td>\n      <td>22.752832</td>\n      <td>0</td>\n      <td>0</td>\n      <td>0.751302</td>\n    </tr>\n    <tr>\n      <th>92952</th>\n      <td>22369</td>\n      <td>16:47:26</td>\n      <td>114.396553</td>\n      <td>22.752832</td>\n      <td>0</td>\n      <td>0</td>\n      <td>0.751302</td>\n    </tr>\n  </tbody>\n</table>\n<p>24680 rows × 7 columns</p>\n</div>"
     },
     "metadata": {},
     "execution_count": 7
    }
   ],
   "source": [
    "df_after[\"distance\"]=abs(df_after[\"lon\"]-location[0])+abs(df_after[\"lat\"]-location[1])\n",
    "\n",
    "df_after=df_after.sort_values(\"distance\")\n",
    "\n",
    "df_after"
   ]
  },
  {
   "cell_type": "code",
   "execution_count": 8,
   "metadata": {},
   "outputs": [],
   "source": [
    "def parse_time(t: str):\n",
    "    \"\"\"Convert timestamp to seconds\n",
    "\n",
    "    Args:\n",
    "        t (str): timestamp in format HH:mm:ss\n",
    "\n",
    "    Returns:\n",
    "        seconds (int): seconds from 00:00:00\n",
    "    \"\"\"\n",
    "    h_m_s = t.split(\":\")\n",
    "    return int(h_m_s[0]) * 60 * 60 + int(h_m_s[1]) * 60 + int(h_m_s[2])"
   ]
  },
  {
   "cell_type": "code",
   "execution_count": 11,
   "metadata": {},
   "outputs": [
    {
     "output_type": "execute_result",
     "data": {
      "text/plain": [
       "       taxi_id   time         lon        lat  is_passenger  speed  distance\n",
       "95617    22379  40878  113.926880  22.542173             0     35  0.070970\n",
       "95616    22379  40848  113.925781  22.543568             0     32  0.071266\n",
       "95615    22379  40819  113.927986  22.542818             0     40  0.072721\n",
       "95612    22379  40728  113.929321  22.543941             0      9  0.075179\n",
       "95611    22379  40698  113.929497  22.544107             0      4  0.075521\n",
       "95610    22379  40668  113.929565  22.544153             0      0  0.075635\n",
       "95614    22379  40788  113.930634  22.543158             0     25  0.075709\n",
       "95613    22379  40758  113.930351  22.543930             0     12  0.076198"
      ],
      "text/html": "<div>\n<style scoped>\n    .dataframe tbody tr th:only-of-type {\n        vertical-align: middle;\n    }\n\n    .dataframe tbody tr th {\n        vertical-align: top;\n    }\n\n    .dataframe thead th {\n        text-align: right;\n    }\n</style>\n<table border=\"1\" class=\"dataframe\">\n  <thead>\n    <tr style=\"text-align: right;\">\n      <th></th>\n      <th>taxi_id</th>\n      <th>time</th>\n      <th>lon</th>\n      <th>lat</th>\n      <th>is_passenger</th>\n      <th>speed</th>\n      <th>distance</th>\n    </tr>\n  </thead>\n  <tbody>\n    <tr>\n      <th>95617</th>\n      <td>22379</td>\n      <td>40878</td>\n      <td>113.926880</td>\n      <td>22.542173</td>\n      <td>0</td>\n      <td>35</td>\n      <td>0.070970</td>\n    </tr>\n    <tr>\n      <th>95616</th>\n      <td>22379</td>\n      <td>40848</td>\n      <td>113.925781</td>\n      <td>22.543568</td>\n      <td>0</td>\n      <td>32</td>\n      <td>0.071266</td>\n    </tr>\n    <tr>\n      <th>95615</th>\n      <td>22379</td>\n      <td>40819</td>\n      <td>113.927986</td>\n      <td>22.542818</td>\n      <td>0</td>\n      <td>40</td>\n      <td>0.072721</td>\n    </tr>\n    <tr>\n      <th>95612</th>\n      <td>22379</td>\n      <td>40728</td>\n      <td>113.929321</td>\n      <td>22.543941</td>\n      <td>0</td>\n      <td>9</td>\n      <td>0.075179</td>\n    </tr>\n    <tr>\n      <th>95611</th>\n      <td>22379</td>\n      <td>40698</td>\n      <td>113.929497</td>\n      <td>22.544107</td>\n      <td>0</td>\n      <td>4</td>\n      <td>0.075521</td>\n    </tr>\n    <tr>\n      <th>95610</th>\n      <td>22379</td>\n      <td>40668</td>\n      <td>113.929565</td>\n      <td>22.544153</td>\n      <td>0</td>\n      <td>0</td>\n      <td>0.075635</td>\n    </tr>\n    <tr>\n      <th>95614</th>\n      <td>22379</td>\n      <td>40788</td>\n      <td>113.930634</td>\n      <td>22.543158</td>\n      <td>0</td>\n      <td>25</td>\n      <td>0.075709</td>\n    </tr>\n    <tr>\n      <th>95613</th>\n      <td>22379</td>\n      <td>40758</td>\n      <td>113.930351</td>\n      <td>22.543930</td>\n      <td>0</td>\n      <td>12</td>\n      <td>0.076198</td>\n    </tr>\n  </tbody>\n</table>\n</div>"
     },
     "metadata": {},
     "execution_count": 11
    }
   ],
   "source": [
    "df_k=df_after[0:k].loc[df_after[\"distance\"]<0.1]\n",
    "df_k[\"time\"]=df_k[\"time\"].apply(parse_time)\n",
    "\n",
    "df_k=df_k.loc[df_k[\"time\"]-parse_time(time)<30*60]\n",
    "\n",
    "df_k"
   ]
  },
  {
   "cell_type": "code",
   "execution_count": 12,
   "metadata": {},
   "outputs": [
    {
     "output_type": "stream",
     "name": "stdout",
     "text": [
      "Wait time = 1653.12 sec\n"
     ]
    }
   ],
   "source": [
    "estimate_wait_time=df_k[\"time\"].sum()/len(df_k)-parse_time(time)\n",
    "\n",
    "print(\"Wait time = {:.2f} sec\".format(estimate_wait_time))"
   ]
  }
 ]
}